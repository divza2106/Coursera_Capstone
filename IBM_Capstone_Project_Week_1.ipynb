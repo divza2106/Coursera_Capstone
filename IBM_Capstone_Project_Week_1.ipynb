{
  "nbformat": 4,
  "nbformat_minor": 0,
  "metadata": {
    "colab": {
      "name": "IBM Capstone Project Week 1",
      "provenance": [],
      "authorship_tag": "ABX9TyO/tCcQuTbT3XIpsq9wKSYd",
      "include_colab_link": true
    },
    "kernelspec": {
      "name": "python3",
      "display_name": "Python 3"
    }
  },
  "cells": [
    {
      "cell_type": "markdown",
      "metadata": {
        "id": "view-in-github",
        "colab_type": "text"
      },
      "source": [
        "<a href=\"https://colab.research.google.com/github/divza2106/Coursera_Capstone/blob/main/IBM_Capstone_Project_Week_1.ipynb\" target=\"_parent\"><img src=\"https://colab.research.google.com/assets/colab-badge.svg\" alt=\"Open In Colab\"/></a>"
      ]
    },
    {
      "cell_type": "markdown",
      "metadata": {
        "id": "2tkF53sNqKeS"
      },
      "source": [
        "## IBM Capstone Project\r\n",
        "This notebook will be used for the IBM Data Science Capstone Project"
      ]
    },
    {
      "cell_type": "code",
      "metadata": {
        "colab": {
          "base_uri": "https://localhost:8080/"
        },
        "id": "7PmhlzW6qS2r",
        "outputId": "4d146dd9-6da1-405c-8d67-59eec77cc4ed"
      },
      "source": [
        "import pandas as pd\r\n",
        "import numpy as np\r\n",
        "print('Hello Capstone Project Course')"
      ],
      "execution_count": null,
      "outputs": [
        {
          "output_type": "stream",
          "text": [
            "Hello Capstone Project Course\n"
          ],
          "name": "stdout"
        }
      ]
    },
    {
      "cell_type": "code",
      "metadata": {
        "id": "pvram3qHqfPM"
      },
      "source": [
        ""
      ],
      "execution_count": null,
      "outputs": []
    }
  ]
}