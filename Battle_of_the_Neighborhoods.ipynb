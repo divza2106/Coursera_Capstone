{
  "nbformat": 4,
  "nbformat_minor": 0,
  "metadata": {
    "colab": {
      "name": "Battle of the Neighborhoods",
      "provenance": [],
      "collapsed_sections": [],
      "authorship_tag": "ABX9TyP0/BX6FdM4CJAKaQLGR29Z",
      "include_colab_link": true
    },
    "kernelspec": {
      "name": "python3",
      "display_name": "Python 3"
    }
  },
  "cells": [
    {
      "cell_type": "markdown",
      "metadata": {
        "id": "view-in-github",
        "colab_type": "text"
      },
      "source": [
        "<a href=\"https://colab.research.google.com/github/divza2106/Coursera_Capstone/blob/main/Battle_of_the_Neighborhoods.ipynb\" target=\"_parent\"><img src=\"https://colab.research.google.com/assets/colab-badge.svg\" alt=\"Open In Colab\"/></a>"
      ]
    },
    {
      "cell_type": "code",
      "metadata": {
        "colab": {
          "base_uri": "https://localhost:8080/"
        },
        "id": "1QqganfASCPA",
        "outputId": "c1e7edc2-138d-49af-b6dd-c55ca0f1bcb6"
      },
      "source": [
        "pip install geocoder"
      ],
      "execution_count": 4,
      "outputs": [
        {
          "output_type": "stream",
          "text": [
            "Collecting geocoder\n",
            "\u001b[?25l  Downloading https://files.pythonhosted.org/packages/4f/6b/13166c909ad2f2d76b929a4227c952630ebaf0d729f6317eb09cbceccbab/geocoder-1.38.1-py2.py3-none-any.whl (98kB)\n",
            "\r\u001b[K     |███▎                            | 10kB 15.2MB/s eta 0:00:01\r\u001b[K     |██████▋                         | 20kB 11.3MB/s eta 0:00:01\r\u001b[K     |██████████                      | 30kB 8.4MB/s eta 0:00:01\r\u001b[K     |█████████████▎                  | 40kB 6.9MB/s eta 0:00:01\r\u001b[K     |████████████████▋               | 51kB 4.5MB/s eta 0:00:01\r\u001b[K     |████████████████████            | 61kB 4.9MB/s eta 0:00:01\r\u001b[K     |███████████████████████▎        | 71kB 5.0MB/s eta 0:00:01\r\u001b[K     |██████████████████████████▋     | 81kB 5.3MB/s eta 0:00:01\r\u001b[K     |██████████████████████████████  | 92kB 5.7MB/s eta 0:00:01\r\u001b[K     |████████████████████████████████| 102kB 3.9MB/s \n",
            "\u001b[?25hRequirement already satisfied: six in /usr/local/lib/python3.6/dist-packages (from geocoder) (1.15.0)\n",
            "Requirement already satisfied: click in /usr/local/lib/python3.6/dist-packages (from geocoder) (7.1.2)\n",
            "Requirement already satisfied: future in /usr/local/lib/python3.6/dist-packages (from geocoder) (0.16.0)\n",
            "Requirement already satisfied: requests in /usr/local/lib/python3.6/dist-packages (from geocoder) (2.23.0)\n",
            "Collecting ratelim\n",
            "  Downloading https://files.pythonhosted.org/packages/f2/98/7e6d147fd16a10a5f821db6e25f192265d6ecca3d82957a4fdd592cad49c/ratelim-0.1.6-py2.py3-none-any.whl\n",
            "Requirement already satisfied: idna<3,>=2.5 in /usr/local/lib/python3.6/dist-packages (from requests->geocoder) (2.10)\n",
            "Requirement already satisfied: certifi>=2017.4.17 in /usr/local/lib/python3.6/dist-packages (from requests->geocoder) (2020.12.5)\n",
            "Requirement already satisfied: urllib3!=1.25.0,!=1.25.1,<1.26,>=1.21.1 in /usr/local/lib/python3.6/dist-packages (from requests->geocoder) (1.24.3)\n",
            "Requirement already satisfied: chardet<4,>=3.0.2 in /usr/local/lib/python3.6/dist-packages (from requests->geocoder) (3.0.4)\n",
            "Requirement already satisfied: decorator in /usr/local/lib/python3.6/dist-packages (from ratelim->geocoder) (4.4.2)\n",
            "Installing collected packages: ratelim, geocoder\n",
            "Successfully installed geocoder-1.38.1 ratelim-0.1.6\n"
          ],
          "name": "stdout"
        }
      ]
    },
    {
      "cell_type": "code",
      "metadata": {
        "colab": {
          "base_uri": "https://localhost:8080/"
        },
        "id": "lRvXKbQoSQMZ",
        "outputId": "4e67bbe5-8b57-45c7-f2a9-13aa326442b5"
      },
      "source": [
        "pip install pgeocode"
      ],
      "execution_count": 5,
      "outputs": [
        {
          "output_type": "stream",
          "text": [
            "Collecting pgeocode\n",
            "  Downloading https://files.pythonhosted.org/packages/35/88/688b8550ceeed59a4b0be3f54d2ad8075ce708b5d5c0b0ec1a3abe58d4cb/pgeocode-0.3.0-py3-none-any.whl\n",
            "Requirement already satisfied: numpy in /usr/local/lib/python3.6/dist-packages (from pgeocode) (1.19.4)\n",
            "Requirement already satisfied: pandas in /usr/local/lib/python3.6/dist-packages (from pgeocode) (1.1.5)\n",
            "Requirement already satisfied: requests in /usr/local/lib/python3.6/dist-packages (from pgeocode) (2.23.0)\n",
            "Requirement already satisfied: pytz>=2017.2 in /usr/local/lib/python3.6/dist-packages (from pandas->pgeocode) (2018.9)\n",
            "Requirement already satisfied: python-dateutil>=2.7.3 in /usr/local/lib/python3.6/dist-packages (from pandas->pgeocode) (2.8.1)\n",
            "Requirement already satisfied: idna<3,>=2.5 in /usr/local/lib/python3.6/dist-packages (from requests->pgeocode) (2.10)\n",
            "Requirement already satisfied: urllib3!=1.25.0,!=1.25.1,<1.26,>=1.21.1 in /usr/local/lib/python3.6/dist-packages (from requests->pgeocode) (1.24.3)\n",
            "Requirement already satisfied: certifi>=2017.4.17 in /usr/local/lib/python3.6/dist-packages (from requests->pgeocode) (2020.12.5)\n",
            "Requirement already satisfied: chardet<4,>=3.0.2 in /usr/local/lib/python3.6/dist-packages (from requests->pgeocode) (3.0.4)\n",
            "Requirement already satisfied: six>=1.5 in /usr/local/lib/python3.6/dist-packages (from python-dateutil>=2.7.3->pandas->pgeocode) (1.15.0)\n",
            "Installing collected packages: pgeocode\n",
            "Successfully installed pgeocode-0.3.0\n"
          ],
          "name": "stdout"
        }
      ]
    },
    {
      "cell_type": "code",
      "metadata": {
        "colab": {
          "base_uri": "https://localhost:8080/"
        },
        "id": "4Et7ZNVGEGTW",
        "outputId": "a721fd7c-6a65-4937-95ba-9eb88172b393"
      },
      "source": [
        "import numpy as np # library to handle data in a vectorized manner\r\n",
        "\r\n",
        "import pandas as pd # library for data analsysis\r\n",
        "pd.set_option('display.max_columns', None)\r\n",
        "pd.set_option('display.max_rows', None)\r\n",
        "\r\n",
        "import json # library to handle JSON files\r\n",
        "\r\n",
        "##!conda install -c conda-forge geopy --yes \r\n",
        "from geopy.geocoders import Nominatim # convert an address into latitude and longitude values\r\n",
        "\r\n",
        "# import packages for web scrapping: beautifulsoup & requests\r\n",
        "from bs4 import BeautifulSoup \r\n",
        "import requests\r\n",
        "from urllib.request import urlopen\r\n",
        "\r\n",
        "from pandas.io.json import json_normalize # tranform JSON file into a pandas dataframe\r\n",
        "\r\n",
        "# Matplotlib and associated plotting modules\r\n",
        "import matplotlib.cm as cm\r\n",
        "import matplotlib.colors as colors\r\n",
        "\r\n",
        "# import k-means from clustering stage\r\n",
        "from sklearn.cluster import KMeans\r\n",
        "\r\n",
        "##!conda install -c conda-forge folium=0.5.0 --yes \r\n",
        "import folium # map rendering library\r\n",
        "\r\n",
        "import geocoder # import geocoder\r\n",
        "import pgeocode\r\n",
        "\r\n",
        "print('Libraries imported!')"
      ],
      "execution_count": 6,
      "outputs": [
        {
          "output_type": "stream",
          "text": [
            "Libraries imported!\n"
          ],
          "name": "stdout"
        }
      ]
    },
    {
      "cell_type": "code",
      "metadata": {
        "colab": {
          "base_uri": "https://localhost:8080/",
          "height": 200
        },
        "id": "mH1Cp_SZEJ7v",
        "outputId": "adc77728-f610-4163-8808-aca949f28f5a"
      },
      "source": [
        "#Getting the data from url\r\n",
        "url = \"https://www.indiatvnews.com/pincode/telangana/hyderabad\"\r\n",
        "res = requests.get(url)\r\n",
        "soup = BeautifulSoup(res.content,'lxml')\r\n",
        "table = soup.find_all('table')[0]\r\n",
        "df = pd.read_html(str(table))\r\n",
        "data = pd.read_json(df[0].to_json(orient='records'))\r\n",
        "data.head()"
      ],
      "execution_count": 7,
      "outputs": [
        {
          "output_type": "execute_result",
          "data": {
            "text/html": [
              "<div>\n",
              "<style scoped>\n",
              "    .dataframe tbody tr th:only-of-type {\n",
              "        vertical-align: middle;\n",
              "    }\n",
              "\n",
              "    .dataframe tbody tr th {\n",
              "        vertical-align: top;\n",
              "    }\n",
              "\n",
              "    .dataframe thead th {\n",
              "        text-align: right;\n",
              "    }\n",
              "</style>\n",
              "<table border=\"1\" class=\"dataframe\">\n",
              "  <thead>\n",
              "    <tr style=\"text-align: right;\">\n",
              "      <th></th>\n",
              "      <th>Office</th>\n",
              "      <th>Taluk</th>\n",
              "      <th>District</th>\n",
              "      <th>State</th>\n",
              "      <th>Pincode</th>\n",
              "    </tr>\n",
              "  </thead>\n",
              "  <tbody>\n",
              "    <tr>\n",
              "      <th>0</th>\n",
              "      <td>A.Gs Office</td>\n",
              "      <td>Khairatabad</td>\n",
              "      <td>Hyderabad</td>\n",
              "      <td>TELANGANA</td>\n",
              "      <td>500004</td>\n",
              "    </tr>\n",
              "    <tr>\n",
              "      <th>1</th>\n",
              "      <td>A.Gs. Staff Quarters</td>\n",
              "      <td>Khairatabad</td>\n",
              "      <td>Hyderabad</td>\n",
              "      <td>TELANGANA</td>\n",
              "      <td>500045</td>\n",
              "    </tr>\n",
              "    <tr>\n",
              "      <th>2</th>\n",
              "      <td>Anandnagar Hyderabad</td>\n",
              "      <td>Khairatabad</td>\n",
              "      <td>Hyderabad</td>\n",
              "      <td>TELANGANA</td>\n",
              "      <td>500004</td>\n",
              "    </tr>\n",
              "    <tr>\n",
              "      <th>3</th>\n",
              "      <td>AP Police Academy PO</td>\n",
              "      <td>Rajendra Nagar</td>\n",
              "      <td>Hyderabad</td>\n",
              "      <td>TELANGANA</td>\n",
              "      <td>500091</td>\n",
              "    </tr>\n",
              "    <tr>\n",
              "      <th>4</th>\n",
              "      <td>Banjara Hills</td>\n",
              "      <td>Khairatabad</td>\n",
              "      <td>Hyderabad</td>\n",
              "      <td>TELANGANA</td>\n",
              "      <td>500034</td>\n",
              "    </tr>\n",
              "  </tbody>\n",
              "</table>\n",
              "</div>"
            ],
            "text/plain": [
              "                 Office           Taluk   District      State  Pincode\n",
              "0           A.Gs Office     Khairatabad  Hyderabad  TELANGANA   500004\n",
              "1  A.Gs. Staff Quarters     Khairatabad  Hyderabad  TELANGANA   500045\n",
              "2  Anandnagar Hyderabad     Khairatabad  Hyderabad  TELANGANA   500004\n",
              "3  AP Police Academy PO  Rajendra Nagar  Hyderabad  TELANGANA   500091\n",
              "4         Banjara Hills     Khairatabad  Hyderabad  TELANGANA   500034"
            ]
          },
          "metadata": {
            "tags": []
          },
          "execution_count": 7
        }
      ]
    },
    {
      "cell_type": "code",
      "metadata": {
        "id": "AKyomc_EK8y5"
      },
      "source": [
        "#Dropping all rows where Taluk is 'NA'\r\n",
        "df = data.dropna()"
      ],
      "execution_count": 8,
      "outputs": []
    },
    {
      "cell_type": "code",
      "metadata": {
        "id": "8YC-3YTDTZX4"
      },
      "source": [
        "#Renaming the columns so that the Taluk is the Neighborhood and the Pincode is the Postal Code\r\n",
        "df=df.rename(columns={\"Office\": \"Neighborhood\", \"Taluk\": \"Borough\", \"Pincode\": \"Postal Code\"})"
      ],
      "execution_count": 9,
      "outputs": []
    },
    {
      "cell_type": "code",
      "metadata": {
        "id": "6_n54jmH3Frn"
      },
      "source": [
        "#Removing duplicate entries of the neighborhoods.\r\n",
        "df=df.drop_duplicates()"
      ],
      "execution_count": 10,
      "outputs": []
    },
    {
      "cell_type": "code",
      "metadata": {
        "id": "Rj3sptFJDYvn"
      },
      "source": [
        "#reset the indices of the dataframe\r\n",
        "df=df.reset_index()"
      ],
      "execution_count": 11,
      "outputs": []
    },
    {
      "cell_type": "code",
      "metadata": {
        "colab": {
          "base_uri": "https://localhost:8080/"
        },
        "id": "EjrEnQX73dmu",
        "outputId": "4ab07c77-14a9-41a6-eb3e-701ea38a2a24"
      },
      "source": [
        "address = 'Hyderabad, India'\r\n",
        "\r\n",
        "geolocator = Nominatim(user_agent=\"hyd_explorer\")\r\n",
        "location = geolocator.geocode(address)\r\n",
        "latitude = location.latitude\r\n",
        "longitude = location.longitude\r\n",
        "print('The geograpical coordinate of Hyderabad are {}, {}.'.format(latitude, longitude))"
      ],
      "execution_count": 12,
      "outputs": [
        {
          "output_type": "stream",
          "text": [
            "The geograpical coordinate of Hyderabad are 17.38878595, 78.46106473453146.\n"
          ],
          "name": "stdout"
        }
      ]
    },
    {
      "cell_type": "code",
      "metadata": {
        "id": "6gDZDkKU7Gpz"
      },
      "source": [
        "#figuring out the Longitude and Latitude of all places in the dataframe using the Postal Code\r\n",
        "lat=[]\r\n",
        "lon=[]\r\n",
        "nomi = pgeocode.Nominatim('in')\r\n",
        "for x in df['Postal Code']:\r\n",
        "  lat.append(nomi.query_postal_code(x)[9])\r\n",
        "  lon.append(nomi.query_postal_code(x)[10])"
      ],
      "execution_count": 13,
      "outputs": []
    },
    {
      "cell_type": "code",
      "metadata": {
        "colab": {
          "base_uri": "https://localhost:8080/",
          "height": 200
        },
        "id": "A98sEb3g7sPf",
        "outputId": "eba7e0de-c446-4a7d-efa6-a86ebe819dc6"
      },
      "source": [
        "#adding the Latitude and Longitude values of each place to the dataframe\r\n",
        "df[\"Latitude\"]=lat\r\n",
        "df[\"Longitude\"]=lon\r\n",
        "df.head()"
      ],
      "execution_count": 14,
      "outputs": [
        {
          "output_type": "execute_result",
          "data": {
            "text/html": [
              "<div>\n",
              "<style scoped>\n",
              "    .dataframe tbody tr th:only-of-type {\n",
              "        vertical-align: middle;\n",
              "    }\n",
              "\n",
              "    .dataframe tbody tr th {\n",
              "        vertical-align: top;\n",
              "    }\n",
              "\n",
              "    .dataframe thead th {\n",
              "        text-align: right;\n",
              "    }\n",
              "</style>\n",
              "<table border=\"1\" class=\"dataframe\">\n",
              "  <thead>\n",
              "    <tr style=\"text-align: right;\">\n",
              "      <th></th>\n",
              "      <th>index</th>\n",
              "      <th>Neighborhood</th>\n",
              "      <th>Borough</th>\n",
              "      <th>District</th>\n",
              "      <th>State</th>\n",
              "      <th>Postal Code</th>\n",
              "      <th>Latitude</th>\n",
              "      <th>Longitude</th>\n",
              "    </tr>\n",
              "  </thead>\n",
              "  <tbody>\n",
              "    <tr>\n",
              "      <th>0</th>\n",
              "      <td>0</td>\n",
              "      <td>A.Gs Office</td>\n",
              "      <td>Khairatabad</td>\n",
              "      <td>Hyderabad</td>\n",
              "      <td>TELANGANA</td>\n",
              "      <td>500004</td>\n",
              "      <td>17.3872</td>\n",
              "      <td>78.4621</td>\n",
              "    </tr>\n",
              "    <tr>\n",
              "      <th>1</th>\n",
              "      <td>1</td>\n",
              "      <td>A.Gs. Staff Quarters</td>\n",
              "      <td>Khairatabad</td>\n",
              "      <td>Hyderabad</td>\n",
              "      <td>TELANGANA</td>\n",
              "      <td>500045</td>\n",
              "      <td>17.5290</td>\n",
              "      <td>78.6839</td>\n",
              "    </tr>\n",
              "    <tr>\n",
              "      <th>2</th>\n",
              "      <td>2</td>\n",
              "      <td>Anandnagar Hyderabad</td>\n",
              "      <td>Khairatabad</td>\n",
              "      <td>Hyderabad</td>\n",
              "      <td>TELANGANA</td>\n",
              "      <td>500004</td>\n",
              "      <td>17.3872</td>\n",
              "      <td>78.4621</td>\n",
              "    </tr>\n",
              "    <tr>\n",
              "      <th>3</th>\n",
              "      <td>3</td>\n",
              "      <td>AP Police Academy PO</td>\n",
              "      <td>Rajendra Nagar</td>\n",
              "      <td>Hyderabad</td>\n",
              "      <td>TELANGANA</td>\n",
              "      <td>500091</td>\n",
              "      <td>17.3535</td>\n",
              "      <td>78.2402</td>\n",
              "    </tr>\n",
              "    <tr>\n",
              "      <th>4</th>\n",
              "      <td>4</td>\n",
              "      <td>Banjara Hills</td>\n",
              "      <td>Khairatabad</td>\n",
              "      <td>Hyderabad</td>\n",
              "      <td>TELANGANA</td>\n",
              "      <td>500034</td>\n",
              "      <td>17.4168</td>\n",
              "      <td>78.4384</td>\n",
              "    </tr>\n",
              "  </tbody>\n",
              "</table>\n",
              "</div>"
            ],
            "text/plain": [
              "   index          Neighborhood         Borough   District      State  \\\n",
              "0      0           A.Gs Office     Khairatabad  Hyderabad  TELANGANA   \n",
              "1      1  A.Gs. Staff Quarters     Khairatabad  Hyderabad  TELANGANA   \n",
              "2      2  Anandnagar Hyderabad     Khairatabad  Hyderabad  TELANGANA   \n",
              "3      3  AP Police Academy PO  Rajendra Nagar  Hyderabad  TELANGANA   \n",
              "4      4         Banjara Hills     Khairatabad  Hyderabad  TELANGANA   \n",
              "\n",
              "   Postal Code  Latitude  Longitude  \n",
              "0       500004   17.3872    78.4621  \n",
              "1       500045   17.5290    78.6839  \n",
              "2       500004   17.3872    78.4621  \n",
              "3       500091   17.3535    78.2402  \n",
              "4       500034   17.4168    78.4384  "
            ]
          },
          "metadata": {
            "tags": []
          },
          "execution_count": 14
        }
      ]
    },
    {
      "cell_type": "code",
      "metadata": {
        "colab": {
          "base_uri": "https://localhost:8080/"
        },
        "id": "8swPZvGj-inc",
        "outputId": "f2fec0e9-b943-4fbc-e5a2-3a2b358b9c22"
      },
      "source": [
        "print('The dataframe has {} boroughs and {} neighborhoods.'.format(\r\n",
        "        len(df['Borough'].unique()),\r\n",
        "        len(df['Neighborhood'].unique())\r\n",
        "    )\r\n",
        ")"
      ],
      "execution_count": 15,
      "outputs": [
        {
          "output_type": "stream",
          "text": [
            "The dataframe has 33 boroughs and 231 neighborhoods.\n"
          ],
          "name": "stdout"
        }
      ]
    },
    {
      "cell_type": "code",
      "metadata": {
        "colab": {
          "base_uri": "https://localhost:8080/",
          "height": 616
        },
        "id": "PzvCfSxGA9oW",
        "outputId": "22311a6b-84a8-4ec5-a3c4-31b1faa9fe0f"
      },
      "source": [
        "# create map of Hyderabad using latitude and longitude values\r\n",
        "map_hyd = folium.Map(location=[latitude, longitude], zoom_start=10)\r\n",
        "\r\n",
        "# add markers to map\r\n",
        "for lat, lng, borough, neighborhood in zip(df['Latitude'], df['Longitude'], df['Borough'], df['Neighborhood']):\r\n",
        "    label = '{}, {}'.format(neighborhood, borough)\r\n",
        "    label = folium.Popup(label, parse_html=True)\r\n",
        "    folium.CircleMarker(\r\n",
        "        [lat, lng],\r\n",
        "        radius=5,\r\n",
        "        popup=label,\r\n",
        "        color='blue',\r\n",
        "        fill=True,\r\n",
        "        fill_color='#3186cc',\r\n",
        "        fill_opacity=0.7,\r\n",
        "        parse_html=False).add_to(map_hyd)  \r\n",
        "map_hyd"
      ],
      "execution_count": 16,
      "outputs": [
        {
          "output_type": "execute_result",
          "data": {
            "text/html": [
              "<div style=\"width:100%;\"><div style=\"position:relative;width:100%;height:0;padding-bottom:60%;\"><span style=\"color:#565656\">Make this Notebook Trusted to load map: File -> Trust Notebook</span><iframe src=\"about:blank\" style=\"position:absolute;width:100%;height:100%;left:0;top:0;border:none !important;\" data-html=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 onload=\"this.contentDocument.open();this.contentDocument.write(atob(this.getAttribute('data-html')));this.contentDocument.close();\" allowfullscreen webkitallowfullscreen mozallowfullscreen></iframe></div></div>"
            ],
            "text/plain": [
              "<folium.folium.Map at 0x7fe27927dd30>"
            ]
          },
          "metadata": {
            "tags": []
          },
          "execution_count": 16
        }
      ]
    },
    {
      "cell_type": "code",
      "metadata": {
        "colab": {
          "base_uri": "https://localhost:8080/"
        },
        "id": "d9vtcF9KFR3n",
        "outputId": "d275dd8b-372d-4d96-ea02-0e9e98d59ba3"
      },
      "source": [
        "CLIENT_ID = 'YLKJ0AZHQUGH3BRKBOVY11KHXKQHF3K5K3SVRB0XMS3PUTQW' # your Foursquare ID\r\n",
        "CLIENT_SECRET = '23QNBFLRVNUBHUTMTGACASQCU3RDI5CM33OBHRGICJGKLYXX' # your Foursquare Secret\r\n",
        "VERSION = '20180605' # Foursquare API version\r\n",
        "LIMIT = 100 # A default Foursquare API limit value\r\n",
        "\r\n",
        "print('Your credentails:')\r\n",
        "print('CLIENT_ID: ' + CLIENT_ID)\r\n",
        "print('CLIENT_SECRET:' + CLIENT_SECRET)"
      ],
      "execution_count": 17,
      "outputs": [
        {
          "output_type": "stream",
          "text": [
            "Your credentails:\n",
            "CLIENT_ID: YLKJ0AZHQUGH3BRKBOVY11KHXKQHF3K5K3SVRB0XMS3PUTQW\n",
            "CLIENT_SECRET:23QNBFLRVNUBHUTMTGACASQCU3RDI5CM33OBHRGICJGKLYXX\n"
          ],
          "name": "stdout"
        }
      ]
    },
    {
      "cell_type": "code",
      "metadata": {
        "id": "_RvOwg8xHXNF"
      },
      "source": [
        "#function to get the venue name, id, lattitude, longitude, and category given the name, lattitude, and longitude of the neighborhood\r\n",
        "def getNearbyVenues(names, latitudes, longitudes, radius=500):\r\n",
        "    \r\n",
        "    venues_list=[]\r\n",
        "    for name, lat, lng in zip(names, latitudes, longitudes):\r\n",
        "            \r\n",
        "        # create the API request URL\r\n",
        "        url = 'https://api.foursquare.com/v2/venues/explore?&client_id={}&client_secret={}&v={}&ll={},{}&radius={}&limit={}'.format(\r\n",
        "            CLIENT_ID, \r\n",
        "            CLIENT_SECRET, \r\n",
        "            VERSION, \r\n",
        "            lat, \r\n",
        "            lng, \r\n",
        "            radius, \r\n",
        "            50)        \r\n",
        "        # make the GET request\r\n",
        "        results = requests.get(url).json()[\"response\"]['groups'][0]['items']\r\n",
        "        \r\n",
        "        # return only relevant information for each nearby venue\r\n",
        "        venues_list.append([(\r\n",
        "            name, \r\n",
        "            lat, \r\n",
        "            lng, \r\n",
        "            v['venue']['name'],\r\n",
        "            v['venue']['id'], \r\n",
        "            v['venue']['location']['lat'], \r\n",
        "            v['venue']['location']['lng'],  \r\n",
        "            v['venue']['categories'][0]['name']\r\n",
        "            ) for v in results])\r\n",
        "\r\n",
        "\r\n",
        "    nearby_venues = pd.DataFrame([item for venue_list in venues_list for item in venue_list])\r\n",
        "    nearby_venues.columns = ['Neighbourhood', \r\n",
        "                  'Neighbourhood Latitude', \r\n",
        "                  'Neighbourhood Longitude', \r\n",
        "                  'Venue', \r\n",
        "                  'Venue ID',\r\n",
        "                  'Venue Latitude', \r\n",
        "                  'Venue Longitude', \r\n",
        "                  'Venue Category']\r\n",
        "    \r\n",
        "    return(nearby_venues)"
      ],
      "execution_count": 18,
      "outputs": []
    },
    {
      "cell_type": "code",
      "metadata": {
        "id": "e9btWItrondZ"
      },
      "source": [
        "hyd_venues=getNearbyVenues(df['Neighborhood'],df['Latitude'],df['Longitude'])"
      ],
      "execution_count": 19,
      "outputs": []
    },
    {
      "cell_type": "code",
      "metadata": {
        "id": "xUmC_Nmi1omG"
      },
      "source": [
        "hyd_venues_temp1 = hyd_venues"
      ],
      "execution_count": 20,
      "outputs": []
    },
    {
      "cell_type": "code",
      "metadata": {
        "colab": {
          "base_uri": "https://localhost:8080/"
        },
        "id": "aFBfukxrmLNF",
        "outputId": "d61d483b-16c7-4485-f526-979a28205545"
      },
      "source": [
        "len(hyd_venues_temp1)"
      ],
      "execution_count": 21,
      "outputs": [
        {
          "output_type": "execute_result",
          "data": {
            "text/plain": [
              "569"
            ]
          },
          "metadata": {
            "tags": []
          },
          "execution_count": 21
        }
      ]
    },
    {
      "cell_type": "code",
      "metadata": {
        "colab": {
          "base_uri": "https://localhost:8080/"
        },
        "id": "g8OhQkxFRxUL",
        "outputId": "1b7bb795-3121-443d-a0d8-e44884fb8152"
      },
      "source": [
        "from google.colab import drive\n",
        "drive.mount('/content/drive')"
      ],
      "execution_count": 22,
      "outputs": [
        {
          "output_type": "stream",
          "text": [
            "Mounted at /content/drive\n"
          ],
          "name": "stdout"
        }
      ]
    },
    {
      "cell_type": "code",
      "metadata": {
        "id": "29-d9yuh5wFw"
      },
      "source": [
        "#function to get the number of likes and rating for each venue\r\n",
        "likes = []\r\n",
        "rating = []\r\n",
        "for Venue_id in hyd_venues[\"Venue ID\"]:\r\n",
        "    url = 'https://api.foursquare.com/v2/venues/{}?&client_id={}&client_secret={}&v={}'.format(\r\n",
        "                Venue_id,\r\n",
        "                CLIENT_ID, \r\n",
        "                CLIENT_SECRET, \r\n",
        "                VERSION, \r\n",
        "              )\r\n",
        "    results = requests.get(url).json()    \r\n",
        "    likes.append(results['response']['venue']['likes'][\"count\"])    \r\n",
        "    try:\r\n",
        "      curr_rating = results['response']['venue']['rating']\r\n",
        "    except:\r\n",
        "      curr_rating = None\r\n",
        "    rating.append(curr_rating)\r\n"
      ],
      "execution_count": null,
      "outputs": []
    },
    {
      "cell_type": "code",
      "metadata": {
        "id": "eiWplcyikypL"
      },
      "source": [
        "#adding the rating and likes to the dataframe\r\n",
        "hyd_venues_temp1[\"Rating\"] = rating"
      ],
      "execution_count": null,
      "outputs": []
    },
    {
      "cell_type": "code",
      "metadata": {
        "id": "78DsDD8Wmy6x"
      },
      "source": [
        "hyd_venues_temp1[\"Likes\"] = likes"
      ],
      "execution_count": null,
      "outputs": []
    },
    {
      "cell_type": "code",
      "metadata": {
        "colab": {
          "base_uri": "https://localhost:8080/"
        },
        "id": "F_AOZ4SKm2pw",
        "outputId": "88621060-ffb0-49f1-e2f3-04b4bf2fa248"
      },
      "source": [
        "len(hyd_venues_temp1)"
      ],
      "execution_count": 261,
      "outputs": [
        {
          "output_type": "execute_result",
          "data": {
            "text/plain": [
              "569"
            ]
          },
          "metadata": {
            "tags": []
          },
          "execution_count": 261
        }
      ]
    },
    {
      "cell_type": "code",
      "metadata": {
        "id": "7pic1CIdm4jX"
      },
      "source": [
        "#saving the dataframe as a csv so more Foursquare API calls do not need to be made\r\n",
        "hyd_venues_temp1.to_csv(\"Hyderbad_Dataset.csv\")"
      ],
      "execution_count": 125,
      "outputs": []
    },
    {
      "cell_type": "code",
      "metadata": {
        "id": "tEIL6xHWsxpk"
      },
      "source": [
        "\r\n",
        "Hyderabad_df = pd.read_csv(\"/content/Hyderbad_Dataset.csv\")"
      ],
      "execution_count": 142,
      "outputs": []
    },
    {
      "cell_type": "code",
      "metadata": {
        "id": "AjEjn14lnsAA"
      },
      "source": [
        "#dropping duplicate venues\r\n",
        "Hyderabad_df = Hyderabad_df.drop_duplicates(subset=[\"Venue\"])"
      ],
      "execution_count": 143,
      "outputs": []
    },
    {
      "cell_type": "code",
      "metadata": {
        "colab": {
          "base_uri": "https://localhost:8080/"
        },
        "id": "0eHq_pK_qPhU",
        "outputId": "ecd6fd09-04f2-4d0c-e53b-04b2915cd28c"
      },
      "source": [
        "len(Hyderabad_df)"
      ],
      "execution_count": 263,
      "outputs": [
        {
          "output_type": "execute_result",
          "data": {
            "text/plain": [
              "140"
            ]
          },
          "metadata": {
            "tags": []
          },
          "execution_count": 263
        }
      ]
    },
    {
      "cell_type": "code",
      "metadata": {
        "id": "whNo6hCTs3cP"
      },
      "source": [
        "#Not every rating for every venue was filled in so if there was no rating, we replaced the nan with the min of all the ratings in the dataframe\r\n",
        "Hyderabad_df = Hyderabad_df.fillna(Hyderabad_df[\"Rating\"].min())"
      ],
      "execution_count": 145,
      "outputs": []
    },
    {
      "cell_type": "code",
      "metadata": {
        "colab": {
          "base_uri": "https://localhost:8080/"
        },
        "id": "hQyD0Vwisc_j",
        "outputId": "e9983180-cfc0-4b4e-a61d-e0acb2fa8bd4"
      },
      "source": [
        "Hyderabad_df[\"Rating\"].min()"
      ],
      "execution_count": 146,
      "outputs": [
        {
          "output_type": "execute_result",
          "data": {
            "text/plain": [
              "5.2"
            ]
          },
          "metadata": {
            "tags": []
          },
          "execution_count": 146
        }
      ]
    },
    {
      "cell_type": "code",
      "metadata": {
        "id": "ZkfsyzvGqd2f"
      },
      "source": [
        "#Standardizing the Ratings on a scale from 0 to 1 by dividing each rating by its max possible value, 10\r\n",
        "Hyderabad_df[\"Rating\"] = Hyderabad_df[\"Rating\"]/10"
      ],
      "execution_count": 147,
      "outputs": []
    },
    {
      "cell_type": "code",
      "metadata": {
        "colab": {
          "base_uri": "https://localhost:8080/"
        },
        "id": "n1gnbNCesAsO",
        "outputId": "16bff25e-a7bb-4a8b-9a91-787d2273cf96"
      },
      "source": [
        "Hyderabad_df[\"Rating\"].max()"
      ],
      "execution_count": 148,
      "outputs": [
        {
          "output_type": "execute_result",
          "data": {
            "text/plain": [
              "0.89"
            ]
          },
          "metadata": {
            "tags": []
          },
          "execution_count": 148
        }
      ]
    },
    {
      "cell_type": "code",
      "metadata": {
        "id": "sgn18JNEsFCk"
      },
      "source": [
        "##Standardizing the Likes on a scale from 0 to 1 by dividing each rating by its max possible value\r\n",
        "Hyderabad_df[\"Likes\"] = Hyderabad_df[\"Likes\"]/Hyderabad_df[\"Likes\"].max()"
      ],
      "execution_count": 149,
      "outputs": []
    },
    {
      "cell_type": "code",
      "metadata": {
        "colab": {
          "base_uri": "https://localhost:8080/"
        },
        "id": "mGlmws40sMxH",
        "outputId": "486593d4-eb3a-4b54-d838-a6b54ccc73e5"
      },
      "source": [
        "Hyderabad_df[\"Likes\"].max()"
      ],
      "execution_count": 150,
      "outputs": [
        {
          "output_type": "execute_result",
          "data": {
            "text/plain": [
              "1.0"
            ]
          },
          "metadata": {
            "tags": []
          },
          "execution_count": 150
        }
      ]
    },
    {
      "cell_type": "code",
      "metadata": {
        "id": "Oll7J0rIsQBn"
      },
      "source": [
        "Hyderabad_df[\"Overall_Score\"] = 0.8*Hyderabad_df[\"Rating\"] + 0.2* Hyderabad_df[\"Likes\"]"
      ],
      "execution_count": 151,
      "outputs": []
    },
    {
      "cell_type": "code",
      "metadata": {
        "colab": {
          "base_uri": "https://localhost:8080/",
          "height": 356
        },
        "id": "g6hiJAshsaxf",
        "outputId": "f9e68e14-ba87-4b62-b3eb-3453cf6470da"
      },
      "source": [
        "hyd_venues_temp1.head()"
      ],
      "execution_count": 152,
      "outputs": [
        {
          "output_type": "execute_result",
          "data": {
            "text/html": [
              "<div>\n",
              "<style scoped>\n",
              "    .dataframe tbody tr th:only-of-type {\n",
              "        vertical-align: middle;\n",
              "    }\n",
              "\n",
              "    .dataframe tbody tr th {\n",
              "        vertical-align: top;\n",
              "    }\n",
              "\n",
              "    .dataframe thead th {\n",
              "        text-align: right;\n",
              "    }\n",
              "</style>\n",
              "<table border=\"1\" class=\"dataframe\">\n",
              "  <thead>\n",
              "    <tr style=\"text-align: right;\">\n",
              "      <th></th>\n",
              "      <th>Neighbourhood</th>\n",
              "      <th>Neighbourhood Latitude</th>\n",
              "      <th>Neighbourhood Longitude</th>\n",
              "      <th>Venue</th>\n",
              "      <th>Venue ID</th>\n",
              "      <th>Venue Latitude</th>\n",
              "      <th>Venue Longitude</th>\n",
              "      <th>Venue Category</th>\n",
              "    </tr>\n",
              "  </thead>\n",
              "  <tbody>\n",
              "    <tr>\n",
              "      <th>0</th>\n",
              "      <td>A.Gs Office</td>\n",
              "      <td>17.3872</td>\n",
              "      <td>78.4621</td>\n",
              "      <td>Al-humdulillah Hotel</td>\n",
              "      <td>4c6c20ef23c1a1cd47b218cf</td>\n",
              "      <td>17.390728</td>\n",
              "      <td>78.462992</td>\n",
              "      <td>Indian Restaurant</td>\n",
              "    </tr>\n",
              "    <tr>\n",
              "      <th>1</th>\n",
              "      <td>A.Gs Office</td>\n",
              "      <td>17.3872</td>\n",
              "      <td>78.4621</td>\n",
              "      <td>Carwan Garage</td>\n",
              "      <td>4f82a2b1e4b06d09fb314bb9</td>\n",
              "      <td>17.388943</td>\n",
              "      <td>78.464249</td>\n",
              "      <td>Auto Workshop</td>\n",
              "    </tr>\n",
              "    <tr>\n",
              "      <th>2</th>\n",
              "      <td>Anandnagar Hyderabad</td>\n",
              "      <td>17.3872</td>\n",
              "      <td>78.4621</td>\n",
              "      <td>Al-humdulillah Hotel</td>\n",
              "      <td>4c6c20ef23c1a1cd47b218cf</td>\n",
              "      <td>17.390728</td>\n",
              "      <td>78.462992</td>\n",
              "      <td>Indian Restaurant</td>\n",
              "    </tr>\n",
              "    <tr>\n",
              "      <th>3</th>\n",
              "      <td>Anandnagar Hyderabad</td>\n",
              "      <td>17.3872</td>\n",
              "      <td>78.4621</td>\n",
              "      <td>Carwan Garage</td>\n",
              "      <td>4f82a2b1e4b06d09fb314bb9</td>\n",
              "      <td>17.388943</td>\n",
              "      <td>78.464249</td>\n",
              "      <td>Auto Workshop</td>\n",
              "    </tr>\n",
              "    <tr>\n",
              "      <th>4</th>\n",
              "      <td>Banjara Hills</td>\n",
              "      <td>17.4168</td>\n",
              "      <td>78.4384</td>\n",
              "      <td>water</td>\n",
              "      <td>54f74881498eab131ee6f9ac</td>\n",
              "      <td>17.417200</td>\n",
              "      <td>78.442952</td>\n",
              "      <td>Hookah Bar</td>\n",
              "    </tr>\n",
              "  </tbody>\n",
              "</table>\n",
              "</div>"
            ],
            "text/plain": [
              "          Neighbourhood  Neighbourhood Latitude  Neighbourhood Longitude  \\\n",
              "0           A.Gs Office                 17.3872                  78.4621   \n",
              "1           A.Gs Office                 17.3872                  78.4621   \n",
              "2  Anandnagar Hyderabad                 17.3872                  78.4621   \n",
              "3  Anandnagar Hyderabad                 17.3872                  78.4621   \n",
              "4         Banjara Hills                 17.4168                  78.4384   \n",
              "\n",
              "                  Venue                  Venue ID  Venue Latitude  \\\n",
              "0  Al-humdulillah Hotel  4c6c20ef23c1a1cd47b218cf       17.390728   \n",
              "1         Carwan Garage  4f82a2b1e4b06d09fb314bb9       17.388943   \n",
              "2  Al-humdulillah Hotel  4c6c20ef23c1a1cd47b218cf       17.390728   \n",
              "3         Carwan Garage  4f82a2b1e4b06d09fb314bb9       17.388943   \n",
              "4                 water  54f74881498eab131ee6f9ac       17.417200   \n",
              "\n",
              "   Venue Longitude     Venue Category  \n",
              "0        78.462992  Indian Restaurant  \n",
              "1        78.464249      Auto Workshop  \n",
              "2        78.462992  Indian Restaurant  \n",
              "3        78.464249      Auto Workshop  \n",
              "4        78.442952         Hookah Bar  "
            ]
          },
          "metadata": {
            "tags": []
          },
          "execution_count": 152
        }
      ]
    },
    {
      "cell_type": "code",
      "metadata": {
        "colab": {
          "base_uri": "https://localhost:8080/"
        },
        "id": "aWkTtohbtOqX",
        "outputId": "93c04b0a-a21f-479d-c6bd-fb3be96d0c16"
      },
      "source": [
        "Hyderabad_df[\"Overall_Score\"].min()"
      ],
      "execution_count": 153,
      "outputs": [
        {
          "output_type": "execute_result",
          "data": {
            "text/plain": [
              "0.41600000000000004"
            ]
          },
          "metadata": {
            "tags": []
          },
          "execution_count": 153
        }
      ]
    },
    {
      "cell_type": "code",
      "metadata": {
        "colab": {
          "base_uri": "https://localhost:8080/"
        },
        "id": "z6xoSydN1l0L",
        "outputId": "c19b7ff3-e80b-4c64-928d-bdb973232b5a"
      },
      "source": [
        "Hyderabad_df[\"Overall_Score\"].max()"
      ],
      "execution_count": 154,
      "outputs": [
        {
          "output_type": "execute_result",
          "data": {
            "text/plain": [
              "0.9120000000000001"
            ]
          },
          "metadata": {
            "tags": []
          },
          "execution_count": 154
        }
      ]
    },
    {
      "cell_type": "code",
      "metadata": {
        "colab": {
          "base_uri": "https://localhost:8080/",
          "height": 339
        },
        "id": "WFeUvhkst72v",
        "outputId": "f4b7c4eb-bcf9-4050-b64b-aece28480502"
      },
      "source": [
        "Hyderabad_df.head()"
      ],
      "execution_count": 155,
      "outputs": [
        {
          "output_type": "execute_result",
          "data": {
            "text/html": [
              "<div>\n",
              "<style scoped>\n",
              "    .dataframe tbody tr th:only-of-type {\n",
              "        vertical-align: middle;\n",
              "    }\n",
              "\n",
              "    .dataframe tbody tr th {\n",
              "        vertical-align: top;\n",
              "    }\n",
              "\n",
              "    .dataframe thead th {\n",
              "        text-align: right;\n",
              "    }\n",
              "</style>\n",
              "<table border=\"1\" class=\"dataframe\">\n",
              "  <thead>\n",
              "    <tr style=\"text-align: right;\">\n",
              "      <th></th>\n",
              "      <th>Unnamed: 0</th>\n",
              "      <th>Neighbourhood</th>\n",
              "      <th>Neighbourhood Latitude</th>\n",
              "      <th>Neighbourhood Longitude</th>\n",
              "      <th>Venue</th>\n",
              "      <th>Venue ID</th>\n",
              "      <th>Venue Latitude</th>\n",
              "      <th>Venue Longitude</th>\n",
              "      <th>Venue Category</th>\n",
              "      <th>Rating</th>\n",
              "      <th>Likes</th>\n",
              "      <th>Overall_Score</th>\n",
              "    </tr>\n",
              "  </thead>\n",
              "  <tbody>\n",
              "    <tr>\n",
              "      <th>0</th>\n",
              "      <td>0</td>\n",
              "      <td>A.Gs Office</td>\n",
              "      <td>17.3872</td>\n",
              "      <td>78.4621</td>\n",
              "      <td>Al-humdulillah Hotel</td>\n",
              "      <td>4c6c20ef23c1a1cd47b218cf</td>\n",
              "      <td>17.390728</td>\n",
              "      <td>78.462992</td>\n",
              "      <td>Indian Restaurant</td>\n",
              "      <td>0.64</td>\n",
              "      <td>0.092199</td>\n",
              "      <td>0.530440</td>\n",
              "    </tr>\n",
              "    <tr>\n",
              "      <th>1</th>\n",
              "      <td>1</td>\n",
              "      <td>A.Gs Office</td>\n",
              "      <td>17.3872</td>\n",
              "      <td>78.4621</td>\n",
              "      <td>Feel in Saudi</td>\n",
              "      <td>4d60efc91ee8721e55b9b021</td>\n",
              "      <td>17.390702</td>\n",
              "      <td>78.463603</td>\n",
              "      <td>Afghan Restaurant</td>\n",
              "      <td>0.52</td>\n",
              "      <td>0.021277</td>\n",
              "      <td>0.420255</td>\n",
              "    </tr>\n",
              "    <tr>\n",
              "      <th>4</th>\n",
              "      <td>4</td>\n",
              "      <td>Banjara Hills</td>\n",
              "      <td>17.4168</td>\n",
              "      <td>78.4384</td>\n",
              "      <td>water</td>\n",
              "      <td>54f74881498eab131ee6f9ac</td>\n",
              "      <td>17.417200</td>\n",
              "      <td>78.442952</td>\n",
              "      <td>Hookah Bar</td>\n",
              "      <td>0.80</td>\n",
              "      <td>0.106383</td>\n",
              "      <td>0.661277</td>\n",
              "    </tr>\n",
              "    <tr>\n",
              "      <th>5</th>\n",
              "      <td>5</td>\n",
              "      <td>Banjara Hills</td>\n",
              "      <td>17.4168</td>\n",
              "      <td>78.4384</td>\n",
              "      <td>Subway</td>\n",
              "      <td>4b719ad8f964a52094502de3</td>\n",
              "      <td>17.414850</td>\n",
              "      <td>78.438248</td>\n",
              "      <td>Sandwich Place</td>\n",
              "      <td>0.69</td>\n",
              "      <td>0.007092</td>\n",
              "      <td>0.553418</td>\n",
              "    </tr>\n",
              "    <tr>\n",
              "      <th>6</th>\n",
              "      <td>6</td>\n",
              "      <td>Banjara Hills</td>\n",
              "      <td>17.4168</td>\n",
              "      <td>78.4384</td>\n",
              "      <td>Cafe Cubano</td>\n",
              "      <td>4d05ca607d9ba35d32fb6c23</td>\n",
              "      <td>17.416990</td>\n",
              "      <td>78.442824</td>\n",
              "      <td>Café</td>\n",
              "      <td>0.72</td>\n",
              "      <td>0.049645</td>\n",
              "      <td>0.585929</td>\n",
              "    </tr>\n",
              "  </tbody>\n",
              "</table>\n",
              "</div>"
            ],
            "text/plain": [
              "   Unnamed: 0  Neighbourhood  Neighbourhood Latitude  Neighbourhood Longitude  \\\n",
              "0           0    A.Gs Office                 17.3872                  78.4621   \n",
              "1           1    A.Gs Office                 17.3872                  78.4621   \n",
              "4           4  Banjara Hills                 17.4168                  78.4384   \n",
              "5           5  Banjara Hills                 17.4168                  78.4384   \n",
              "6           6  Banjara Hills                 17.4168                  78.4384   \n",
              "\n",
              "                  Venue                  Venue ID  Venue Latitude  \\\n",
              "0  Al-humdulillah Hotel  4c6c20ef23c1a1cd47b218cf       17.390728   \n",
              "1         Feel in Saudi  4d60efc91ee8721e55b9b021       17.390702   \n",
              "4                 water  54f74881498eab131ee6f9ac       17.417200   \n",
              "5                Subway  4b719ad8f964a52094502de3       17.414850   \n",
              "6           Cafe Cubano  4d05ca607d9ba35d32fb6c23       17.416990   \n",
              "\n",
              "   Venue Longitude     Venue Category  Rating     Likes  Overall_Score  \n",
              "0        78.462992  Indian Restaurant    0.64  0.092199       0.530440  \n",
              "1        78.463603  Afghan Restaurant    0.52  0.021277       0.420255  \n",
              "4        78.442952         Hookah Bar    0.80  0.106383       0.661277  \n",
              "5        78.438248     Sandwich Place    0.69  0.007092       0.553418  \n",
              "6        78.442824               Café    0.72  0.049645       0.585929  "
            ]
          },
          "metadata": {
            "tags": []
          },
          "execution_count": 155
        }
      ]
    },
    {
      "cell_type": "code",
      "metadata": {
        "id": "0RhI7nYBuRuA"
      },
      "source": [
        "#Preparing the data for the XGBoost Model\r\n",
        "X = Hyderabad_df.iloc[:,6:8]"
      ],
      "execution_count": 205,
      "outputs": []
    },
    {
      "cell_type": "code",
      "metadata": {
        "id": "pfWdmieJvXUu"
      },
      "source": [
        "Y = Hyderabad_df.iloc[:,-1]"
      ],
      "execution_count": 206,
      "outputs": []
    },
    {
      "cell_type": "code",
      "metadata": {
        "colab": {
          "base_uri": "https://localhost:8080/",
          "height": 200
        },
        "id": "neOCclJzvJks",
        "outputId": "2fd37653-1cc4-4682-c012-913eaf806d02"
      },
      "source": [
        "X.head()"
      ],
      "execution_count": 207,
      "outputs": [
        {
          "output_type": "execute_result",
          "data": {
            "text/html": [
              "<div>\n",
              "<style scoped>\n",
              "    .dataframe tbody tr th:only-of-type {\n",
              "        vertical-align: middle;\n",
              "    }\n",
              "\n",
              "    .dataframe tbody tr th {\n",
              "        vertical-align: top;\n",
              "    }\n",
              "\n",
              "    .dataframe thead th {\n",
              "        text-align: right;\n",
              "    }\n",
              "</style>\n",
              "<table border=\"1\" class=\"dataframe\">\n",
              "  <thead>\n",
              "    <tr style=\"text-align: right;\">\n",
              "      <th></th>\n",
              "      <th>Venue Latitude</th>\n",
              "      <th>Venue Longitude</th>\n",
              "    </tr>\n",
              "  </thead>\n",
              "  <tbody>\n",
              "    <tr>\n",
              "      <th>0</th>\n",
              "      <td>17.390728</td>\n",
              "      <td>78.462992</td>\n",
              "    </tr>\n",
              "    <tr>\n",
              "      <th>1</th>\n",
              "      <td>17.390702</td>\n",
              "      <td>78.463603</td>\n",
              "    </tr>\n",
              "    <tr>\n",
              "      <th>4</th>\n",
              "      <td>17.417200</td>\n",
              "      <td>78.442952</td>\n",
              "    </tr>\n",
              "    <tr>\n",
              "      <th>5</th>\n",
              "      <td>17.414850</td>\n",
              "      <td>78.438248</td>\n",
              "    </tr>\n",
              "    <tr>\n",
              "      <th>6</th>\n",
              "      <td>17.416990</td>\n",
              "      <td>78.442824</td>\n",
              "    </tr>\n",
              "  </tbody>\n",
              "</table>\n",
              "</div>"
            ],
            "text/plain": [
              "   Venue Latitude  Venue Longitude\n",
              "0       17.390728        78.462992\n",
              "1       17.390702        78.463603\n",
              "4       17.417200        78.442952\n",
              "5       17.414850        78.438248\n",
              "6       17.416990        78.442824"
            ]
          },
          "metadata": {
            "tags": []
          },
          "execution_count": 207
        }
      ]
    },
    {
      "cell_type": "code",
      "metadata": {
        "colab": {
          "base_uri": "https://localhost:8080/"
        },
        "id": "g2PLOpUFvK3Q",
        "outputId": "0492c0dc-3234-47fc-a5bd-3f2cd4afbf22"
      },
      "source": [
        "len(Y)"
      ],
      "execution_count": 208,
      "outputs": [
        {
          "output_type": "execute_result",
          "data": {
            "text/plain": [
              "140"
            ]
          },
          "metadata": {
            "tags": []
          },
          "execution_count": 208
        }
      ]
    },
    {
      "cell_type": "code",
      "metadata": {
        "id": "dABVeqeNvdRQ"
      },
      "source": [
        "import xgboost as xgb\r\n",
        "from sklearn.metrics import mean_squared_error\r\n",
        "import pandas as pd\r\n",
        "import numpy as np"
      ],
      "execution_count": 209,
      "outputs": []
    },
    {
      "cell_type": "code",
      "metadata": {
        "id": "XW45UJNYvg3m"
      },
      "source": [
        "data_dmatrix = xgb.DMatrix(data=X.values,label=Y.values)"
      ],
      "execution_count": 210,
      "outputs": []
    },
    {
      "cell_type": "code",
      "metadata": {
        "id": "0pu2T8qqvjXE"
      },
      "source": [
        "#Splitting the training and testing data\r\n",
        "from sklearn.model_selection import train_test_split\r\n",
        "X_train, X_test, y_train, y_test = train_test_split(X, Y, test_size=0.1, random_state=123)"
      ],
      "execution_count": 211,
      "outputs": []
    },
    {
      "cell_type": "code",
      "metadata": {
        "id": "EO4i6n_nwBiX"
      },
      "source": [
        "#predictions\r\n",
        "preds = xg_reg.predict(X_test.values)"
      ],
      "execution_count": 165,
      "outputs": []
    },
    {
      "cell_type": "code",
      "metadata": {
        "colab": {
          "base_uri": "https://localhost:8080/"
        },
        "id": "OKphEgfYwDpI",
        "outputId": "b72f4fd9-8428-41cb-b5bb-42a251cffecc"
      },
      "source": [
        "#root mean squared error\r\n",
        "rmse = np.sqrt(mean_squared_error(y_test, preds))\r\n",
        "print(\"RMSE: %f\" % (rmse))"
      ],
      "execution_count": 166,
      "outputs": [
        {
          "output_type": "stream",
          "text": [
            "RMSE: 0.067637\n"
          ],
          "name": "stdout"
        }
      ]
    },
    {
      "cell_type": "code",
      "metadata": {
        "id": "pRIQgdCEwy3u"
      },
      "source": [
        "for index,x in Hyderabad_df.iterrows():\r\n",
        "  if x[-1]==max:\r\n",
        "    a=x"
      ],
      "execution_count": 167,
      "outputs": []
    },
    {
      "cell_type": "code",
      "metadata": {
        "id": "caTwEr2Xx1tE"
      },
      "source": [
        "max=Hyderabad_df['Overall_Score'].max()"
      ],
      "execution_count": 168,
      "outputs": []
    },
    {
      "cell_type": "code",
      "metadata": {
        "id": "QoDWb5ZBg1Da"
      },
      "source": [
        "data_dmatrix = xgb.DMatrix(data=X.values,label=Y.values)"
      ],
      "execution_count": 212,
      "outputs": []
    },
    {
      "cell_type": "code",
      "metadata": {
        "colab": {
          "base_uri": "https://localhost:8080/"
        },
        "id": "A5P9pz5FhMdp",
        "outputId": "636939c9-95b5-4d95-975b-b872b6d59dad"
      },
      "source": [
        "params = {\"objective\":\"reg:linear\",'colsample_bytree': 0.3,'learning_rate': 0.1,\r\n",
        "                'max_depth': 5, 'alpha': 10}\r\n",
        "\r\n",
        "cv_results = xgb.cv(dtrain=data_dmatrix, params=params, nfold=3,\r\n",
        "                    num_boost_round=50,early_stopping_rounds=10,metrics=\"rmse\", as_pandas=True, seed=123)"
      ],
      "execution_count": 213,
      "outputs": [
        {
          "output_type": "stream",
          "text": [
            "[02:30:22] WARNING: /workspace/src/objective/regression_obj.cu:152: reg:linear is now deprecated in favor of reg:squarederror.\n",
            "[02:30:22] WARNING: /workspace/src/objective/regression_obj.cu:152: reg:linear is now deprecated in favor of reg:squarederror.\n",
            "[02:30:22] WARNING: /workspace/src/objective/regression_obj.cu:152: reg:linear is now deprecated in favor of reg:squarederror.\n"
          ],
          "name": "stdout"
        }
      ]
    },
    {
      "cell_type": "code",
      "metadata": {
        "colab": {
          "base_uri": "https://localhost:8080/"
        },
        "id": "_8f-RaDchZZw",
        "outputId": "bdad1a54-ea61-481c-c8c2-60b73751a61e"
      },
      "source": [
        "#the last rmse\r\n",
        "print((cv_results[\"test-rmse-mean\"]).tail(1))"
      ],
      "execution_count": 214,
      "outputs": [
        {
          "output_type": "stream",
          "text": [
            "0    0.104927\n",
            "Name: test-rmse-mean, dtype: float64\n"
          ],
          "name": "stdout"
        }
      ]
    },
    {
      "cell_type": "code",
      "metadata": {
        "colab": {
          "base_uri": "https://localhost:8080/"
        },
        "id": "tQxLH604hjge",
        "outputId": "47d93c16-0eab-461b-bc4f-67e117321e69"
      },
      "source": [
        "xg_reg = xgb.train(params=params, dtrain=data_dmatrix, num_boost_round=100)"
      ],
      "execution_count": 215,
      "outputs": [
        {
          "output_type": "stream",
          "text": [
            "[02:30:34] WARNING: /workspace/src/objective/regression_obj.cu:152: reg:linear is now deprecated in favor of reg:squarederror.\n"
          ],
          "name": "stdout"
        }
      ]
    },
    {
      "cell_type": "code",
      "metadata": {
        "colab": {
          "base_uri": "https://localhost:8080/",
          "height": 595
        },
        "id": "pwUWspPfhqvi",
        "outputId": "768586c8-1f41-4033-a323-4966f32df4d9"
      },
      "source": [
        "#the decision tree of the xgboost model\r\n",
        "import matplotlib.pyplot as plt\r\n",
        "\r\n",
        "xgb.plot_tree(xg_reg, num_trees=20)\r\n",
        "plt.rcParams['figure.figsize'] = [50, 10]\r\n",
        "plt.show()"
      ],
      "execution_count": 221,
      "outputs": [
        {
          "output_type": "display_data",
          "data": {
            "image/png": "[encoded data removed]",
            "text/plain": [
              "<Figure size 3600x720 with 1 Axes>"
            ]
          },
          "metadata": {
            "tags": [],
            "needs_background": "light"
          }
        }
      ]
    },
    {
      "cell_type": "code",
      "metadata": {
        "id": "Nq1mYugLv4Jd"
      },
      "source": [
        "xg_reg = xgb.XGBRegressor(objective ='reg:linear', colsample_bytree = 0.3, learning_rate = 0.1,\r\n",
        "                max_depth = 5, alpha = 10, n_estimators = 10)"
      ],
      "execution_count": 225,
      "outputs": []
    },
    {
      "cell_type": "code",
      "metadata": {
        "colab": {
          "base_uri": "https://localhost:8080/"
        },
        "id": "c-UQiotzv7-H",
        "outputId": "72ca07d4-10c9-4e6a-8801-13ae46890db4"
      },
      "source": [
        "#fitting the model\r\n",
        "xg_reg.fit(X_train.values,y_train.values)"
      ],
      "execution_count": 226,
      "outputs": [
        {
          "output_type": "stream",
          "text": [
            "[02:33:08] WARNING: /workspace/src/objective/regression_obj.cu:152: reg:linear is now deprecated in favor of reg:squarederror.\n"
          ],
          "name": "stdout"
        },
        {
          "output_type": "execute_result",
          "data": {
            "text/plain": [
              "XGBRegressor(alpha=10, base_score=0.5, booster='gbtree', colsample_bylevel=1,\n",
              "             colsample_bynode=1, colsample_bytree=0.3, gamma=0,\n",
              "             importance_type='gain', learning_rate=0.1, max_delta_step=0,\n",
              "             max_depth=5, min_child_weight=1, missing=None, n_estimators=10,\n",
              "             n_jobs=1, nthread=None, objective='reg:linear', random_state=0,\n",
              "             reg_alpha=0, reg_lambda=1, scale_pos_weight=1, seed=None,\n",
              "             silent=None, subsample=1, verbosity=1)"
            ]
          },
          "metadata": {
            "tags": []
          },
          "execution_count": 226
        }
      ]
    },
    {
      "cell_type": "code",
      "metadata": {
        "colab": {
          "base_uri": "https://localhost:8080/",
          "height": 641
        },
        "id": "2Tm6T6RJh0KZ",
        "outputId": "08469106-0fc6-4c38-ff56-57f6e70dc701"
      },
      "source": [
        "#finding which feature impacted the aggregated rating the most\r\n",
        "xgb.plot_importance(xg_reg)\r\n",
        "plt.rcParams['figure.figsize'] = [5, 5]\r\n",
        "plt.show()"
      ],
      "execution_count": 227,
      "outputs": [
        {
          "output_type": "display_data",
          "data": {
            "image/png": "[encoded data removed]",
            "text/plain": [
              "<Figure size 3600x720 with 1 Axes>"
            ]
          },
          "metadata": {
            "tags": [],
            "needs_background": "light"
          }
        }
      ]
    },
    {
      "cell_type": "code",
      "metadata": {
        "id": "4qKRrA3Vh638"
      },
      "source": [
        "xg_reg.predict(data_dmatrix)"
      ],
      "execution_count": null,
      "outputs": []
    },
    {
      "cell_type": "code",
      "metadata": {
        "id": "dMVZDldP0Ike"
      },
      "source": [
        "#importing zomato data about restaurants across the world\r\n",
        "zomato = pd.read_csv(\"/content/zomato.csv\",encoding = \"ISO-8859-1\")"
      ],
      "execution_count": 181,
      "outputs": []
    },
    {
      "cell_type": "code",
      "metadata": {
        "colab": {
          "base_uri": "https://localhost:8080/",
          "height": 765
        },
        "id": "KINu2iY2FyDJ",
        "outputId": "a2172eb7-ecf3-476d-c663-49b20d5b54af"
      },
      "source": [
        "zomato.head()"
      ],
      "execution_count": 182,
      "outputs": [
        {
          "output_type": "execute_result",
          "data": {
            "text/html": [
              "<div>\n",
              "<style scoped>\n",
              "    .dataframe tbody tr th:only-of-type {\n",
              "        vertical-align: middle;\n",
              "    }\n",
              "\n",
              "    .dataframe tbody tr th {\n",
              "        vertical-align: top;\n",
              "    }\n",
              "\n",
              "    .dataframe thead th {\n",
              "        text-align: right;\n",
              "    }\n",
              "</style>\n",
              "<table border=\"1\" class=\"dataframe\">\n",
              "  <thead>\n",
              "    <tr style=\"text-align: right;\">\n",
              "      <th></th>\n",
              "      <th>Restaurant ID</th>\n",
              "      <th>Restaurant Name</th>\n",
              "      <th>Country Code</th>\n",
              "      <th>City</th>\n",
              "      <th>Address</th>\n",
              "      <th>Locality</th>\n",
              "      <th>Locality Verbose</th>\n",
              "      <th>Longitude</th>\n",
              "      <th>Latitude</th>\n",
              "      <th>Cuisines</th>\n",
              "      <th>Average Cost for two</th>\n",
              "      <th>Currency</th>\n",
              "      <th>Has Table booking</th>\n",
              "      <th>Has Online delivery</th>\n",
              "      <th>Is delivering now</th>\n",
              "      <th>Switch to order menu</th>\n",
              "      <th>Price range</th>\n",
              "      <th>Aggregate rating</th>\n",
              "      <th>Rating color</th>\n",
              "      <th>Rating text</th>\n",
              "      <th>Votes</th>\n",
              "    </tr>\n",
              "  </thead>\n",
              "  <tbody>\n",
              "    <tr>\n",
              "      <th>0</th>\n",
              "      <td>6317637</td>\n",
              "      <td>Le Petit Souffle</td>\n",
              "      <td>162</td>\n",
              "      <td>Makati City</td>\n",
              "      <td>Third Floor, Century City Mall, Kalayaan Avenu...</td>\n",
              "      <td>Century City Mall, Poblacion, Makati City</td>\n",
              "      <td>Century City Mall, Poblacion, Makati City, Mak...</td>\n",
              "      <td>121.027535</td>\n",
              "      <td>14.565443</td>\n",
              "      <td>French, Japanese, Desserts</td>\n",
              "      <td>1100</td>\n",
              "      <td>Botswana Pula(P)</td>\n",
              "      <td>Yes</td>\n",
              "      <td>No</td>\n",
              "      <td>No</td>\n",
              "      <td>No</td>\n",
              "      <td>3</td>\n",
              "      <td>4.8</td>\n",
              "      <td>Dark Green</td>\n",
              "      <td>Excellent</td>\n",
              "      <td>314</td>\n",
              "    </tr>\n",
              "    <tr>\n",
              "      <th>1</th>\n",
              "      <td>6304287</td>\n",
              "      <td>Izakaya Kikufuji</td>\n",
              "      <td>162</td>\n",
              "      <td>Makati City</td>\n",
              "      <td>Little Tokyo, 2277 Chino Roces Avenue, Legaspi...</td>\n",
              "      <td>Little Tokyo, Legaspi Village, Makati City</td>\n",
              "      <td>Little Tokyo, Legaspi Village, Makati City, Ma...</td>\n",
              "      <td>121.014101</td>\n",
              "      <td>14.553708</td>\n",
              "      <td>Japanese</td>\n",
              "      <td>1200</td>\n",
              "      <td>Botswana Pula(P)</td>\n",
              "      <td>Yes</td>\n",
              "      <td>No</td>\n",
              "      <td>No</td>\n",
              "      <td>No</td>\n",
              "      <td>3</td>\n",
              "      <td>4.5</td>\n",
              "      <td>Dark Green</td>\n",
              "      <td>Excellent</td>\n",
              "      <td>591</td>\n",
              "    </tr>\n",
              "    <tr>\n",
              "      <th>2</th>\n",
              "      <td>6300002</td>\n",
              "      <td>Heat - Edsa Shangri-La</td>\n",
              "      <td>162</td>\n",
              "      <td>Mandaluyong City</td>\n",
              "      <td>Edsa Shangri-La, 1 Garden Way, Ortigas, Mandal...</td>\n",
              "      <td>Edsa Shangri-La, Ortigas, Mandaluyong City</td>\n",
              "      <td>Edsa Shangri-La, Ortigas, Mandaluyong City, Ma...</td>\n",
              "      <td>121.056831</td>\n",
              "      <td>14.581404</td>\n",
              "      <td>Seafood, Asian, Filipino, Indian</td>\n",
              "      <td>4000</td>\n",
              "      <td>Botswana Pula(P)</td>\n",
              "      <td>Yes</td>\n",
              "      <td>No</td>\n",
              "      <td>No</td>\n",
              "      <td>No</td>\n",
              "      <td>4</td>\n",
              "      <td>4.4</td>\n",
              "      <td>Green</td>\n",
              "      <td>Very Good</td>\n",
              "      <td>270</td>\n",
              "    </tr>\n",
              "    <tr>\n",
              "      <th>3</th>\n",
              "      <td>6318506</td>\n",
              "      <td>Ooma</td>\n",
              "      <td>162</td>\n",
              "      <td>Mandaluyong City</td>\n",
              "      <td>Third Floor, Mega Fashion Hall, SM Megamall, O...</td>\n",
              "      <td>SM Megamall, Ortigas, Mandaluyong City</td>\n",
              "      <td>SM Megamall, Ortigas, Mandaluyong City, Mandal...</td>\n",
              "      <td>121.056475</td>\n",
              "      <td>14.585318</td>\n",
              "      <td>Japanese, Sushi</td>\n",
              "      <td>1500</td>\n",
              "      <td>Botswana Pula(P)</td>\n",
              "      <td>No</td>\n",
              "      <td>No</td>\n",
              "      <td>No</td>\n",
              "      <td>No</td>\n",
              "      <td>4</td>\n",
              "      <td>4.9</td>\n",
              "      <td>Dark Green</td>\n",
              "      <td>Excellent</td>\n",
              "      <td>365</td>\n",
              "    </tr>\n",
              "    <tr>\n",
              "      <th>4</th>\n",
              "      <td>6314302</td>\n",
              "      <td>Sambo Kojin</td>\n",
              "      <td>162</td>\n",
              "      <td>Mandaluyong City</td>\n",
              "      <td>Third Floor, Mega Atrium, SM Megamall, Ortigas...</td>\n",
              "      <td>SM Megamall, Ortigas, Mandaluyong City</td>\n",
              "      <td>SM Megamall, Ortigas, Mandaluyong City, Mandal...</td>\n",
              "      <td>121.057508</td>\n",
              "      <td>14.584450</td>\n",
              "      <td>Japanese, Korean</td>\n",
              "      <td>1500</td>\n",
              "      <td>Botswana Pula(P)</td>\n",
              "      <td>Yes</td>\n",
              "      <td>No</td>\n",
              "      <td>No</td>\n",
              "      <td>No</td>\n",
              "      <td>4</td>\n",
              "      <td>4.8</td>\n",
              "      <td>Dark Green</td>\n",
              "      <td>Excellent</td>\n",
              "      <td>229</td>\n",
              "    </tr>\n",
              "  </tbody>\n",
              "</table>\n",
              "</div>"
            ],
            "text/plain": [
              "   Restaurant ID         Restaurant Name  Country Code              City  \\\n",
              "0        6317637        Le Petit Souffle           162       Makati City   \n",
              "1        6304287        Izakaya Kikufuji           162       Makati City   \n",
              "2        6300002  Heat - Edsa Shangri-La           162  Mandaluyong City   \n",
              "3        6318506                    Ooma           162  Mandaluyong City   \n",
              "4        6314302             Sambo Kojin           162  Mandaluyong City   \n",
              "\n",
              "                                             Address  \\\n",
              "0  Third Floor, Century City Mall, Kalayaan Avenu...   \n",
              "1  Little Tokyo, 2277 Chino Roces Avenue, Legaspi...   \n",
              "2  Edsa Shangri-La, 1 Garden Way, Ortigas, Mandal...   \n",
              "3  Third Floor, Mega Fashion Hall, SM Megamall, O...   \n",
              "4  Third Floor, Mega Atrium, SM Megamall, Ortigas...   \n",
              "\n",
              "                                     Locality  \\\n",
              "0   Century City Mall, Poblacion, Makati City   \n",
              "1  Little Tokyo, Legaspi Village, Makati City   \n",
              "2  Edsa Shangri-La, Ortigas, Mandaluyong City   \n",
              "3      SM Megamall, Ortigas, Mandaluyong City   \n",
              "4      SM Megamall, Ortigas, Mandaluyong City   \n",
              "\n",
              "                                    Locality Verbose   Longitude   Latitude  \\\n",
              "0  Century City Mall, Poblacion, Makati City, Mak...  121.027535  14.565443   \n",
              "1  Little Tokyo, Legaspi Village, Makati City, Ma...  121.014101  14.553708   \n",
              "2  Edsa Shangri-La, Ortigas, Mandaluyong City, Ma...  121.056831  14.581404   \n",
              "3  SM Megamall, Ortigas, Mandaluyong City, Mandal...  121.056475  14.585318   \n",
              "4  SM Megamall, Ortigas, Mandaluyong City, Mandal...  121.057508  14.584450   \n",
              "\n",
              "                           Cuisines  Average Cost for two          Currency  \\\n",
              "0        French, Japanese, Desserts                  1100  Botswana Pula(P)   \n",
              "1                          Japanese                  1200  Botswana Pula(P)   \n",
              "2  Seafood, Asian, Filipino, Indian                  4000  Botswana Pula(P)   \n",
              "3                   Japanese, Sushi                  1500  Botswana Pula(P)   \n",
              "4                  Japanese, Korean                  1500  Botswana Pula(P)   \n",
              "\n",
              "  Has Table booking Has Online delivery Is delivering now  \\\n",
              "0               Yes                  No                No   \n",
              "1               Yes                  No                No   \n",
              "2               Yes                  No                No   \n",
              "3                No                  No                No   \n",
              "4               Yes                  No                No   \n",
              "\n",
              "  Switch to order menu  Price range  Aggregate rating Rating color  \\\n",
              "0                   No            3               4.8   Dark Green   \n",
              "1                   No            3               4.5   Dark Green   \n",
              "2                   No            4               4.4        Green   \n",
              "3                   No            4               4.9   Dark Green   \n",
              "4                   No            4               4.8   Dark Green   \n",
              "\n",
              "  Rating text  Votes  \n",
              "0   Excellent    314  \n",
              "1   Excellent    591  \n",
              "2   Very Good    270  \n",
              "3   Excellent    365  \n",
              "4   Excellent    229  "
            ]
          },
          "metadata": {
            "tags": []
          },
          "execution_count": 182
        }
      ]
    },
    {
      "cell_type": "code",
      "metadata": {
        "id": "sky7a2LDF5F3"
      },
      "source": [
        "#deleting rows where the restaurant has not been rated\r\n",
        "zomato=zomato[zomato[\"Rating text\"]!='Not rated']"
      ],
      "execution_count": 183,
      "outputs": []
    },
    {
      "cell_type": "code",
      "metadata": {
        "colab": {
          "base_uri": "https://localhost:8080/"
        },
        "id": "CWjlhVjIG5b9",
        "outputId": "f057d921-0a91-4f2e-903f-ce160770b2d7"
      },
      "source": [
        "len(zomato)"
      ],
      "execution_count": 184,
      "outputs": [
        {
          "output_type": "execute_result",
          "data": {
            "text/plain": [
              "7403"
            ]
          },
          "metadata": {
            "tags": []
          },
          "execution_count": 184
        }
      ]
    },
    {
      "cell_type": "code",
      "metadata": {
        "id": "WWJpiClQ3nrm"
      },
      "source": [
        "#for this model we only need the longitude, latitude, cusines, price range, and aggregate rating\r\n",
        "zomato_new = zomato[[\"Longitude\", \"Latitude\",\"Cuisines\",\"Price range\", \"Aggregate rating\"]]"
      ],
      "execution_count": 185,
      "outputs": []
    },
    {
      "cell_type": "code",
      "metadata": {
        "id": "T3Bsd9Dz4xyu"
      },
      "source": [
        "#dropping all null values\r\n",
        "zomato_new = zomato_new.dropna()"
      ],
      "execution_count": 186,
      "outputs": []
    },
    {
      "cell_type": "code",
      "metadata": {
        "id": "9sZCQv9fA_jW"
      },
      "source": [
        "zomato_new.rename(columns = lambda x: x.replace(' ', '_'), inplace=True)"
      ],
      "execution_count": 187,
      "outputs": []
    },
    {
      "cell_type": "code",
      "metadata": {
        "id": "r6DrmBWt4gSG"
      },
      "source": [
        "#reseting index\r\n",
        "zomato_new = zomato_new.reset_index(drop = True)"
      ],
      "execution_count": 188,
      "outputs": []
    },
    {
      "cell_type": "code",
      "metadata": {
        "id": "FMzVSOxj4rsm"
      },
      "source": [
        "#for restaurants with more than one cuisine type, only using the first one\r\n",
        "zomato_new[\"Cuisines\"] = [zomato_new[\"Cuisines\"][i].split(\",\")[0] for i in range(len(zomato_new))]"
      ],
      "execution_count": 189,
      "outputs": []
    },
    {
      "cell_type": "code",
      "metadata": {
        "id": "m0xcmxFv_FKD"
      },
      "source": [
        "#turning each cusine string into a number\r\n",
        "from sklearn import preprocessing\r\n",
        "le = preprocessing.LabelEncoder()\r\n",
        "zomato_new['Cuisines']=le.fit_transform(zomato_new['Cuisines'])"
      ],
      "execution_count": 190,
      "outputs": []
    },
    {
      "cell_type": "code",
      "metadata": {
        "id": "LLpAVkvB7qUf"
      },
      "source": [
        "#the X is the longitude, latitude, cuisines, and price range \r\n",
        "X = zomato_new.iloc[:, 0:-1]"
      ],
      "execution_count": 229,
      "outputs": []
    },
    {
      "cell_type": "code",
      "metadata": {
        "colab": {
          "base_uri": "https://localhost:8080/",
          "height": 200
        },
        "id": "snQ5RTNT8kU4",
        "outputId": "c2771fb1-8661-4e71-a8a4-fcc898b45914"
      },
      "source": [
        "X.head()"
      ],
      "execution_count": 230,
      "outputs": [
        {
          "output_type": "execute_result",
          "data": {
            "text/html": [
              "<div>\n",
              "<style scoped>\n",
              "    .dataframe tbody tr th:only-of-type {\n",
              "        vertical-align: middle;\n",
              "    }\n",
              "\n",
              "    .dataframe tbody tr th {\n",
              "        vertical-align: top;\n",
              "    }\n",
              "\n",
              "    .dataframe thead th {\n",
              "        text-align: right;\n",
              "    }\n",
              "</style>\n",
              "<table border=\"1\" class=\"dataframe\">\n",
              "  <thead>\n",
              "    <tr style=\"text-align: right;\">\n",
              "      <th></th>\n",
              "      <th>Longitude</th>\n",
              "      <th>Latitude</th>\n",
              "      <th>Cuisines</th>\n",
              "      <th>Price_range</th>\n",
              "    </tr>\n",
              "  </thead>\n",
              "  <tbody>\n",
              "    <tr>\n",
              "      <th>0</th>\n",
              "      <td>121.027535</td>\n",
              "      <td>14.565443</td>\n",
              "      <td>38</td>\n",
              "      <td>3</td>\n",
              "    </tr>\n",
              "    <tr>\n",
              "      <th>1</th>\n",
              "      <td>121.014101</td>\n",
              "      <td>14.553708</td>\n",
              "      <td>54</td>\n",
              "      <td>3</td>\n",
              "    </tr>\n",
              "    <tr>\n",
              "      <th>2</th>\n",
              "      <td>121.056831</td>\n",
              "      <td>14.581404</td>\n",
              "      <td>96</td>\n",
              "      <td>4</td>\n",
              "    </tr>\n",
              "    <tr>\n",
              "      <th>3</th>\n",
              "      <td>121.056475</td>\n",
              "      <td>14.585318</td>\n",
              "      <td>54</td>\n",
              "      <td>4</td>\n",
              "    </tr>\n",
              "    <tr>\n",
              "      <th>4</th>\n",
              "      <td>121.057508</td>\n",
              "      <td>14.584450</td>\n",
              "      <td>54</td>\n",
              "      <td>4</td>\n",
              "    </tr>\n",
              "  </tbody>\n",
              "</table>\n",
              "</div>"
            ],
            "text/plain": [
              "    Longitude   Latitude  Cuisines  Price_range\n",
              "0  121.027535  14.565443        38            3\n",
              "1  121.014101  14.553708        54            3\n",
              "2  121.056831  14.581404        96            4\n",
              "3  121.056475  14.585318        54            4\n",
              "4  121.057508  14.584450        54            4"
            ]
          },
          "metadata": {
            "tags": []
          },
          "execution_count": 230
        }
      ]
    },
    {
      "cell_type": "code",
      "metadata": {
        "id": "cKKMsQxt8ld-"
      },
      "source": [
        "# y is the aggregated rating\r\n",
        "y = zomato_new.iloc[:, -1]"
      ],
      "execution_count": 231,
      "outputs": []
    },
    {
      "cell_type": "code",
      "metadata": {
        "colab": {
          "base_uri": "https://localhost:8080/"
        },
        "id": "I_vpHKQ-8q4e",
        "outputId": "89a649ca-8427-419e-8160-231ee57f6a4c"
      },
      "source": [
        "len(X)"
      ],
      "execution_count": 232,
      "outputs": [
        {
          "output_type": "execute_result",
          "data": {
            "text/plain": [
              "7394"
            ]
          },
          "metadata": {
            "tags": []
          },
          "execution_count": 232
        }
      ]
    },
    {
      "cell_type": "code",
      "metadata": {
        "colab": {
          "base_uri": "https://localhost:8080/"
        },
        "id": "R08DFCEu8spO",
        "outputId": "418590df-a695-4afe-e8a5-0c7b65366bdf"
      },
      "source": [
        "y.max()"
      ],
      "execution_count": 233,
      "outputs": [
        {
          "output_type": "execute_result",
          "data": {
            "text/plain": [
              "4.9"
            ]
          },
          "metadata": {
            "tags": []
          },
          "execution_count": 233
        }
      ]
    },
    {
      "cell_type": "code",
      "metadata": {
        "id": "ShvWX4F-9A5B"
      },
      "source": [
        "for index,x in zomato.iterrows():\r\n",
        "  if x[10]==max:\r\n",
        "    a=x"
      ],
      "execution_count": 234,
      "outputs": []
    },
    {
      "cell_type": "code",
      "metadata": {
        "id": "UAcb1O379cWr"
      },
      "source": [
        "#splitting into train and test\r\n",
        "from sklearn.model_selection import train_test_split\r\n",
        "\r\n",
        "X_train, X_test, y_train, y_test = train_test_split(X, y, test_size=0.1, random_state=123)"
      ],
      "execution_count": 235,
      "outputs": []
    },
    {
      "cell_type": "code",
      "metadata": {
        "id": "9wKvXi0a-lKf"
      },
      "source": [
        "xg_reg = xgb.XGBRegressor(objective ='reg:linear', colsample_bytree = 0.3, learning_rate = 0.1,\r\n",
        "                max_depth = 5, alpha = 10, n_estimators = 10)"
      ],
      "execution_count": 236,
      "outputs": []
    },
    {
      "cell_type": "code",
      "metadata": {
        "colab": {
          "base_uri": "https://localhost:8080/"
        },
        "id": "5ME1Xara-pKf",
        "outputId": "bef70600-1e6f-4710-ad3f-7bfde5648ef7"
      },
      "source": [
        "#fitting the model\r\n",
        "xg_reg.fit(X_train.values,y_train.values)"
      ],
      "execution_count": 237,
      "outputs": [
        {
          "output_type": "stream",
          "text": [
            "[02:35:24] WARNING: /workspace/src/objective/regression_obj.cu:152: reg:linear is now deprecated in favor of reg:squarederror.\n"
          ],
          "name": "stdout"
        },
        {
          "output_type": "execute_result",
          "data": {
            "text/plain": [
              "XGBRegressor(alpha=10, base_score=0.5, booster='gbtree', colsample_bylevel=1,\n",
              "             colsample_bynode=1, colsample_bytree=0.3, gamma=0,\n",
              "             importance_type='gain', learning_rate=0.1, max_delta_step=0,\n",
              "             max_depth=5, min_child_weight=1, missing=None, n_estimators=10,\n",
              "             n_jobs=1, nthread=None, objective='reg:linear', random_state=0,\n",
              "             reg_alpha=0, reg_lambda=1, scale_pos_weight=1, seed=None,\n",
              "             silent=None, subsample=1, verbosity=1)"
            ]
          },
          "metadata": {
            "tags": []
          },
          "execution_count": 237
        }
      ]
    },
    {
      "cell_type": "code",
      "metadata": {
        "colab": {
          "base_uri": "https://localhost:8080/",
          "height": 200
        },
        "id": "w7tOREiZ_U9G",
        "outputId": "b92645b5-ea6d-4c61-929c-24c5bf8ecb44"
      },
      "source": [
        "zomato_new.head()"
      ],
      "execution_count": 238,
      "outputs": [
        {
          "output_type": "execute_result",
          "data": {
            "text/html": [
              "<div>\n",
              "<style scoped>\n",
              "    .dataframe tbody tr th:only-of-type {\n",
              "        vertical-align: middle;\n",
              "    }\n",
              "\n",
              "    .dataframe tbody tr th {\n",
              "        vertical-align: top;\n",
              "    }\n",
              "\n",
              "    .dataframe thead th {\n",
              "        text-align: right;\n",
              "    }\n",
              "</style>\n",
              "<table border=\"1\" class=\"dataframe\">\n",
              "  <thead>\n",
              "    <tr style=\"text-align: right;\">\n",
              "      <th></th>\n",
              "      <th>Longitude</th>\n",
              "      <th>Latitude</th>\n",
              "      <th>Cuisines</th>\n",
              "      <th>Price_range</th>\n",
              "      <th>Aggregate_rating</th>\n",
              "    </tr>\n",
              "  </thead>\n",
              "  <tbody>\n",
              "    <tr>\n",
              "      <th>0</th>\n",
              "      <td>121.027535</td>\n",
              "      <td>14.565443</td>\n",
              "      <td>38</td>\n",
              "      <td>3</td>\n",
              "      <td>4.8</td>\n",
              "    </tr>\n",
              "    <tr>\n",
              "      <th>1</th>\n",
              "      <td>121.014101</td>\n",
              "      <td>14.553708</td>\n",
              "      <td>54</td>\n",
              "      <td>3</td>\n",
              "      <td>4.5</td>\n",
              "    </tr>\n",
              "    <tr>\n",
              "      <th>2</th>\n",
              "      <td>121.056831</td>\n",
              "      <td>14.581404</td>\n",
              "      <td>96</td>\n",
              "      <td>4</td>\n",
              "      <td>4.4</td>\n",
              "    </tr>\n",
              "    <tr>\n",
              "      <th>3</th>\n",
              "      <td>121.056475</td>\n",
              "      <td>14.585318</td>\n",
              "      <td>54</td>\n",
              "      <td>4</td>\n",
              "      <td>4.9</td>\n",
              "    </tr>\n",
              "    <tr>\n",
              "      <th>4</th>\n",
              "      <td>121.057508</td>\n",
              "      <td>14.584450</td>\n",
              "      <td>54</td>\n",
              "      <td>4</td>\n",
              "      <td>4.8</td>\n",
              "    </tr>\n",
              "  </tbody>\n",
              "</table>\n",
              "</div>"
            ],
            "text/plain": [
              "    Longitude   Latitude  Cuisines  Price_range  Aggregate_rating\n",
              "0  121.027535  14.565443        38            3               4.8\n",
              "1  121.014101  14.553708        54            3               4.5\n",
              "2  121.056831  14.581404        96            4               4.4\n",
              "3  121.056475  14.585318        54            4               4.9\n",
              "4  121.057508  14.584450        54            4               4.8"
            ]
          },
          "metadata": {
            "tags": []
          },
          "execution_count": 238
        }
      ]
    },
    {
      "cell_type": "code",
      "metadata": {
        "id": "L8LTb5tS_ieG"
      },
      "source": [
        "#prediction\r\n",
        "preds = xg_reg.predict(X_test.values)"
      ],
      "execution_count": 239,
      "outputs": []
    },
    {
      "cell_type": "code",
      "metadata": {
        "colab": {
          "base_uri": "https://localhost:8080/"
        },
        "id": "1zsZqAiI_tEz",
        "outputId": "d2934398-00db-4239-8c2a-f1cfe13082df"
      },
      "source": [
        "#root mean square error\r\n",
        "rmse = np.sqrt(mean_squared_error(y_test, preds))\r\n",
        "print(\"RMSE: %f\" % (rmse))"
      ],
      "execution_count": 240,
      "outputs": [
        {
          "output_type": "stream",
          "text": [
            "RMSE: 1.118870\n"
          ],
          "name": "stdout"
        }
      ]
    },
    {
      "cell_type": "code",
      "metadata": {
        "id": "FRMSP8nP_-b1"
      },
      "source": [
        "data_dmatrix = xgb.DMatrix(data=X.values,label=y.values)"
      ],
      "execution_count": 241,
      "outputs": []
    },
    {
      "cell_type": "code",
      "metadata": {
        "colab": {
          "base_uri": "https://localhost:8080/"
        },
        "id": "HO5XbZXZ_zJF",
        "outputId": "7e793b57-6d6a-4f11-d357-f106ee4a93a7"
      },
      "source": [
        "params = {\"objective\":\"reg:linear\",'colsample_bytree': 0.3,'learning_rate': 0.1,\r\n",
        "                'max_depth': 5, 'alpha': 10}\r\n",
        "\r\n",
        "cv_results = xgb.cv(dtrain=data_dmatrix, params=params, nfold=3,\r\n",
        "                    num_boost_round=50,early_stopping_rounds=10,metrics=\"rmse\", as_pandas=True, seed=123)"
      ],
      "execution_count": 242,
      "outputs": [
        {
          "output_type": "stream",
          "text": [
            "[02:35:37] WARNING: /workspace/src/objective/regression_obj.cu:152: reg:linear is now deprecated in favor of reg:squarederror.\n",
            "[02:35:37] WARNING: /workspace/src/objective/regression_obj.cu:152: reg:linear is now deprecated in favor of reg:squarederror.\n",
            "[02:35:38] WARNING: /workspace/src/objective/regression_obj.cu:152: reg:linear is now deprecated in favor of reg:squarederror.\n"
          ],
          "name": "stdout"
        }
      ]
    },
    {
      "cell_type": "code",
      "metadata": {
        "colab": {
          "base_uri": "https://localhost:8080/",
          "height": 200
        },
        "id": "MTCqgFqoACDG",
        "outputId": "487acfd8-14ef-470e-bca7-eefc377044e0"
      },
      "source": [
        "cv_results.head()"
      ],
      "execution_count": 243,
      "outputs": [
        {
          "output_type": "execute_result",
          "data": {
            "text/html": [
              "<div>\n",
              "<style scoped>\n",
              "    .dataframe tbody tr th:only-of-type {\n",
              "        vertical-align: middle;\n",
              "    }\n",
              "\n",
              "    .dataframe tbody tr th {\n",
              "        vertical-align: top;\n",
              "    }\n",
              "\n",
              "    .dataframe thead th {\n",
              "        text-align: right;\n",
              "    }\n",
              "</style>\n",
              "<table border=\"1\" class=\"dataframe\">\n",
              "  <thead>\n",
              "    <tr style=\"text-align: right;\">\n",
              "      <th></th>\n",
              "      <th>train-rmse-mean</th>\n",
              "      <th>train-rmse-std</th>\n",
              "      <th>test-rmse-mean</th>\n",
              "      <th>test-rmse-std</th>\n",
              "    </tr>\n",
              "  </thead>\n",
              "  <tbody>\n",
              "    <tr>\n",
              "      <th>0</th>\n",
              "      <td>2.701345</td>\n",
              "      <td>0.005301</td>\n",
              "      <td>2.701332</td>\n",
              "      <td>0.012722</td>\n",
              "    </tr>\n",
              "    <tr>\n",
              "      <th>1</th>\n",
              "      <td>2.441192</td>\n",
              "      <td>0.005219</td>\n",
              "      <td>2.441542</td>\n",
              "      <td>0.013109</td>\n",
              "    </tr>\n",
              "    <tr>\n",
              "      <th>2</th>\n",
              "      <td>2.208612</td>\n",
              "      <td>0.004535</td>\n",
              "      <td>2.209115</td>\n",
              "      <td>0.014021</td>\n",
              "    </tr>\n",
              "    <tr>\n",
              "      <th>3</th>\n",
              "      <td>1.999344</td>\n",
              "      <td>0.004383</td>\n",
              "      <td>1.999636</td>\n",
              "      <td>0.014377</td>\n",
              "    </tr>\n",
              "    <tr>\n",
              "      <th>4</th>\n",
              "      <td>1.813071</td>\n",
              "      <td>0.003940</td>\n",
              "      <td>1.813622</td>\n",
              "      <td>0.014858</td>\n",
              "    </tr>\n",
              "  </tbody>\n",
              "</table>\n",
              "</div>"
            ],
            "text/plain": [
              "   train-rmse-mean  train-rmse-std  test-rmse-mean  test-rmse-std\n",
              "0         2.701345        0.005301        2.701332       0.012722\n",
              "1         2.441192        0.005219        2.441542       0.013109\n",
              "2         2.208612        0.004535        2.209115       0.014021\n",
              "3         1.999344        0.004383        1.999636       0.014377\n",
              "4         1.813071        0.003940        1.813622       0.014858"
            ]
          },
          "metadata": {
            "tags": []
          },
          "execution_count": 243
        }
      ]
    },
    {
      "cell_type": "code",
      "metadata": {
        "colab": {
          "base_uri": "https://localhost:8080/"
        },
        "id": "d8YpxE7bAGVW",
        "outputId": "33bda301-38d8-480a-c345-4affc4d1b1e7"
      },
      "source": [
        "#the rmse was reduced to 0.423527\r\n",
        "print((cv_results[\"test-rmse-mean\"]).tail(1))"
      ],
      "execution_count": 244,
      "outputs": [
        {
          "output_type": "stream",
          "text": [
            "49    0.423527\n",
            "Name: test-rmse-mean, dtype: float64\n"
          ],
          "name": "stdout"
        }
      ]
    },
    {
      "cell_type": "code",
      "metadata": {
        "colab": {
          "base_uri": "https://localhost:8080/"
        },
        "id": "ra441m6sAMh1",
        "outputId": "dfde1998-14c0-41c2-9415-a3b38139e112"
      },
      "source": [
        "xg_reg = xgb.train(params=params, dtrain=data_dmatrix, num_boost_round=100)"
      ],
      "execution_count": 245,
      "outputs": [
        {
          "output_type": "stream",
          "text": [
            "[02:35:43] WARNING: /workspace/src/objective/regression_obj.cu:152: reg:linear is now deprecated in favor of reg:squarederror.\n"
          ],
          "name": "stdout"
        }
      ]
    },
    {
      "cell_type": "code",
      "metadata": {
        "colab": {
          "base_uri": "https://localhost:8080/",
          "height": 211
        },
        "id": "kMk5ZbZ9B8Dh",
        "outputId": "1c918b23-9565-4b12-ec62-3f51b09b3e90"
      },
      "source": [
        "#the decision tree of the xgboost model\r\n",
        "import matplotlib.pyplot as plt\r\n",
        "\r\n",
        "xgb.plot_tree(xg_reg, num_trees=10)\r\n",
        "plt.rcParams['figure.figsize'] = [50, 10]\r\n",
        "plt.show()"
      ],
      "execution_count": 246,
      "outputs": [
        {
          "output_type": "display_data",
          "data": {
            "image/png": "[encoded data removed]",
            "text/plain": [
              "<Figure size 360x360 with 1 Axes>"
            ]
          },
          "metadata": {
            "tags": [],
            "needs_background": "light"
          }
        }
      ]
    },
    {
      "cell_type": "code",
      "metadata": {
        "colab": {
          "base_uri": "https://localhost:8080/",
          "height": 641
        },
        "id": "GBH3UQAdAQfE",
        "outputId": "f7f9b020-b7ad-49b2-97e6-da54167f51f9"
      },
      "source": [
        "#finding which feature impacted the aggregated rating the most\r\n",
        "xgb.plot_importance(xg_reg)\r\n",
        "plt.rcParams['figure.figsize'] = [5, 5]\r\n",
        "plt.show()"
      ],
      "execution_count": 247,
      "outputs": [
        {
          "output_type": "display_data",
          "data": {
            "image/png": "[encoded data removed]",
            "text/plain": [
              "<Figure size 3600x720 with 1 Axes>"
            ]
          },
          "metadata": {
            "tags": [],
            "needs_background": "light"
          }
        }
      ]
    },
    {
      "cell_type": "code",
      "metadata": {
        "id": "aCMxnF-PE284"
      },
      "source": [
        "#predicting the aggregate rating of the lowest rated venue\r\n",
        "min = zomato_new[\"Aggregate_rating\"].min()"
      ],
      "execution_count": 250,
      "outputs": []
    },
    {
      "cell_type": "code",
      "metadata": {
        "id": "vo5ulSVwBiE2"
      },
      "source": [
        "for index,y in zomato_new.iterrows():\r\n",
        "  if y[-1]==min:\r\n",
        "    a=y"
      ],
      "execution_count": 252,
      "outputs": []
    },
    {
      "cell_type": "code",
      "metadata": {
        "colab": {
          "base_uri": "https://localhost:8080/"
        },
        "id": "yqfDUbRtFHL9",
        "outputId": "1965b5d4-6c0d-4b8f-bf5b-93855f741c6d"
      },
      "source": [
        "a"
      ],
      "execution_count": 255,
      "outputs": [
        {
          "output_type": "execute_result",
          "data": {
            "text/plain": [
              "Longitude           77.370165\n",
              "Latitude            28.633970\n",
              "Cuisines            78.000000\n",
              "Price_range          3.000000\n",
              "Aggregate_rating     1.800000\n",
              "Name: 1019, dtype: float64"
            ]
          },
          "metadata": {
            "tags": []
          },
          "execution_count": 255
        }
      ]
    },
    {
      "cell_type": "code",
      "metadata": {
        "id": "5T4Cx-DNFH0c"
      },
      "source": [
        "#in the future, if you want to predict the rating of any restaurant:\r\n",
        "#set a=[longitude,latitude,cusine,price range]\r\n",
        "a = [ -73.998543, 40.715365, 44.000000, 2]"
      ],
      "execution_count": null,
      "outputs": []
    },
    {
      "cell_type": "code",
      "metadata": {
        "id": "_WovD4shAm6P"
      },
      "source": [
        "data_dmatrix = xgb.DMatrix(data=a[0:-1])"
      ],
      "execution_count": 256,
      "outputs": []
    },
    {
      "cell_type": "code",
      "metadata": {
        "colab": {
          "base_uri": "https://localhost:8080/"
        },
        "id": "Ge5hwzksASuO",
        "outputId": "71f050d7-3bfa-41f6-a772-5f0c888afa14"
      },
      "source": [
        "xg_reg.predict(data_dmatrix)"
      ],
      "execution_count": 257,
      "outputs": [
        {
          "output_type": "execute_result",
          "data": {
            "text/plain": [
              "array([3.2084422], dtype=float32)"
            ]
          },
          "metadata": {
            "tags": []
          },
          "execution_count": 257
        }
      ]
    },
    {
      "cell_type": "code",
      "metadata": {
        "colab": {
          "base_uri": "https://localhost:8080/"
        },
        "id": "aXK6nXYdI7bg",
        "outputId": "a7f85b89-01bd-4496-8665-0d685d6659b2"
      },
      "source": [
        "#list of all the cusines and the number they respond to \r\n",
        "for i in range(zomato_new[\"Cuisines\"].nunique()):\r\n",
        "  print(str(i) + \" \" + le.inverse_transform([i]))"
      ],
      "execution_count": 260,
      "outputs": [
        {
          "output_type": "stream",
          "text": [
            "['0 Afghani']\n",
            "['1 African']\n",
            "['2 American']\n",
            "['3 Andhra']\n",
            "['4 Arabian']\n",
            "['5 Argentine']\n",
            "['6 Asian']\n",
            "['7 Asian Fusion']\n",
            "['8 Assamese']\n",
            "['9 Australian']\n",
            "['10 Awadhi']\n",
            "['11 BBQ']\n",
            "['12 Bakery']\n",
            "['13 Bar Food']\n",
            "['14 Bengali']\n",
            "['15 Beverages']\n",
            "['16 Bihari']\n",
            "['17 Biryani']\n",
            "['18 Brazilian']\n",
            "['19 Breakfast']\n",
            "['20 British']\n",
            "['21 Burger']\n",
            "['22 Burmese']\n",
            "['23 Cafe']\n",
            "['24 Cajun']\n",
            "['25 Caribbean']\n",
            "['26 Charcoal Grill']\n",
            "['27 Chinese']\n",
            "['28 Coffee and Tea']\n",
            "['29 Contemporary']\n",
            "['30 Continental']\n",
            "['31 Cuban']\n",
            "['32 Desserts']\n",
            "['33 Drinks Only']\n",
            "['34 European']\n",
            "['35 Fast Food']\n",
            "['36 Filipino']\n",
            "['37 Finger Food']\n",
            "['38 French']\n",
            "['39 German']\n",
            "['40 Goan']\n",
            "['41 Gourmet Fast Food']\n",
            "['42 Greek']\n",
            "['43 Grill']\n",
            "['44 Gujarati']\n",
            "['45 Hawaiian']\n",
            "['46 Healthy Food']\n",
            "['47 Hyderabadi']\n",
            "['48 Ice Cream']\n",
            "['49 Indian']\n",
            "['50 Indonesian']\n",
            "['51 International']\n",
            "['52 Irish']\n",
            "['53 Italian']\n",
            "['54 Japanese']\n",
            "['55 Juices']\n",
            "['56 Kashmiri']\n",
            "['57 Kebab']\n",
            "['58 Kerala']\n",
            "['59 Kiwi']\n",
            "['60 Korean']\n",
            "['61 Latin American']\n",
            "['62 Lebanese']\n",
            "['63 Lucknowi']\n",
            "['64 Maharashtrian']\n",
            "['65 Malaysian']\n",
            "['66 Malwani']\n",
            "['67 Mediterranean']\n",
            "['68 Mexican']\n",
            "['69 Middle Eastern']\n",
            "['70 Mithai']\n",
            "['71 Modern Australian']\n",
            "['72 Modern Indian']\n",
            "['73 Mughlai']\n",
            "['74 Naga']\n",
            "['75 Nepalese']\n",
            "['76 New American']\n",
            "['77 North Eastern']\n",
            "['78 North Indian']\n",
            "['79 Oriya']\n",
            "['80 Pakistani']\n",
            "['81 Parsi']\n",
            "['82 Patisserie']\n",
            "['83 Peranakan']\n",
            "['84 Persian']\n",
            "['85 Peruvian']\n",
            "['86 Pizza']\n",
            "['87 Portuguese']\n",
            "['88 Pub Food']\n",
            "['89 Rajasthani']\n",
            "['90 Ramen']\n",
            "['91 Raw Meats']\n",
            "['92 Restaurant Cafe']\n",
            "['93 Salad']\n",
            "['94 Sandwich']\n",
            "['95 Scottish']\n",
            "['96 Seafood']\n",
            "['97 Singaporean']\n",
            "['98 South American']\n",
            "['99 South Indian']\n",
            "['100 Southern']\n",
            "['101 Spanish']\n",
            "['102 Sri Lankan']\n",
            "['103 Steak']\n",
            "['104 Street Food']\n",
            "['105 Sunda']\n",
            "['106 Sushi']\n",
            "['107 Taiwanese']\n",
            "['108 Tapas']\n",
            "['109 Tea']\n",
            "['110 Tex-Mex']\n",
            "['111 Thai']\n",
            "['112 Tibetan']\n",
            "['113 Turkish']\n",
            "['114 Turkish Pizza']\n",
            "['115 Vietnamese']\n",
            "['116 Western']\n",
            "['117 World Cuisine']\n"
          ],
          "name": "stdout"
        }
      ]
    },
    {
      "cell_type": "code",
      "metadata": {
        "id": "dVllIOenJqJV"
      },
      "source": [
        ""
      ],
      "execution_count": null,
      "outputs": []
    }
  ]
}